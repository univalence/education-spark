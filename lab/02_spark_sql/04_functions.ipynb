{
 "cells": [
  {
   "cell_type": "markdown",
   "id": "d98c2bbf-92eb-49c5-8641-62e09bb66fd6",
   "metadata": {},
   "source": [
    "# Fonctions SparkSQL\n",
    "\n",
    "SparkSQL fournit un ensemble de fonctions intégrées utilisables avec les dataframes. Ces fonctions ont deux avantages :\n",
    " * Les fonctions intégrées sont généralement optimisées par le moteur Catalyst pour une meilleure performance.\n",
    " * Les fonctions intégrées sont disponibles dans toutes les installations Spark, ce qui facilite le partage et la portabilité du code.\n",
    "\n",
    "Références :\n",
    " * Scala API : https://spark.apache.org/docs/latest/api/scala/org/apache/spark/sql/functions$.html\n",
    " * SQL : https://spark.apache.org/docs/latest/api/sql/index.html"
   ]
  },
  {
   "cell_type": "markdown",
   "id": "d4ec949f-d881-49dc-a8cc-4e3102fcb518",
   "metadata": {},
   "source": [
    "## Préambule"
   ]
  },
  {
   "cell_type": "code",
   "execution_count": 1,
   "id": "6f6189ab-a408-40ed-ab61-032b6b100c35",
   "metadata": {
    "tags": []
   },
   "outputs": [
    {
     "data": {
      "text/plain": [
       "\u001b[32mimport \u001b[39m\u001b[36m$ivy.$                                   \n",
       "\u001b[39m\n",
       "\u001b[32mimport \u001b[39m\u001b[36m$ivy.$                                  \n",
       "\u001b[39m\n",
       "\u001b[32mimport \u001b[39m\u001b[36m$ivy.$                               \n",
       "\n",
       "\u001b[39m\n",
       "\u001b[32mimport \u001b[39m\u001b[36morg.apache.logging.log4j.Level\n",
       "\u001b[39m\n",
       "\u001b[32mimport \u001b[39m\u001b[36morg.apache.logging.log4j.core.config.Configurator\n",
       "\n",
       "// Avoid disturbing logs\n",
       "\u001b[39m"
      ]
     },
     "execution_count": 1,
     "metadata": {},
     "output_type": "execute_result"
    }
   ],
   "source": [
    "import $ivy.`org.apache.spark::spark-core:3.3.2`\n",
    "import $ivy.`org.apache.spark::spark-sql:3.3.2`\n",
    "import $ivy.`org.slf4j:slf4j-reload4j:2.0.6`\n",
    "\n",
    "import org.apache.logging.log4j.Level\n",
    "import org.apache.logging.log4j.core.config.Configurator\n",
    "\n",
    "// Avoid disturbing logs\n",
    "Configurator.setRootLevel(Level.OFF)"
   ]
  },
  {
   "cell_type": "code",
   "execution_count": 2,
   "id": "0342eab3-e1f6-4e1c-b208-bb38944ff129",
   "metadata": {
    "tags": []
   },
   "outputs": [
    {
     "name": "stdout",
     "output_type": "stream",
     "text": [
      "Loading spark-stubs\n",
      "Getting spark JARs\n"
     ]
    },
    {
     "name": "stderr",
     "output_type": "stream",
     "text": [
      "SLF4J: No SLF4J providers were found.\n",
      "SLF4J: Defaulting to no-operation (NOP) logger implementation\n",
      "SLF4J: See https://www.slf4j.org/codes.html#noProviders for further details.\n"
     ]
    },
    {
     "name": "stdout",
     "output_type": "stream",
     "text": [
      "Creating SparkSession\n"
     ]
    },
    {
     "data": {
      "text/html": [
       "<a target=\"_blank\" href=\"http://ae5d1d1cfcf7:4043\">Spark UI</a>"
      ]
     },
     "metadata": {},
     "output_type": "display_data"
    },
    {
     "data": {
      "text/plain": [
       "\u001b[32mimport \u001b[39m\u001b[36morg.apache.spark.sql._\n",
       "\u001b[39m\n",
       "\u001b[32mimport \u001b[39m\u001b[36morg.apache.spark.sql.functions._\n",
       "\u001b[39m\n",
       "\u001b[32mimport \u001b[39m\u001b[36morg.apache.spark.rdd._\n",
       "\n",
       "\u001b[39m\n",
       "\u001b[36mspark\u001b[39m: \u001b[32mSparkSession\u001b[39m = org.apache.spark.sql.SparkSession@7ecde642\n",
       "\u001b[32mimport \u001b[39m\u001b[36mspark.implicits._\n",
       "\n",
       "// Ce script fournit que élément supplémentaires pour rendre l'affichage plus confortable\n",
       "\u001b[39m\n",
       "\u001b[32mimport \u001b[39m\u001b[36m$file.$                      , spark_helper._\u001b[39m"
      ]
     },
     "execution_count": 2,
     "metadata": {},
     "output_type": "execute_result"
    }
   ],
   "source": [
    "import org.apache.spark.sql._\n",
    "import org.apache.spark.sql.functions._\n",
    "import org.apache.spark.rdd._\n",
    "\n",
    "val spark = {\n",
    "  NotebookSparkSession.builder()\n",
    "    .master(\"local[*]\")\n",
    "    // L'appel ci-dessous sert à donner un nom à votre application\n",
    "    // Ce apparaîtra notamment dans la Spark UI\n",
    "    .appName(\"Sales Analysis - SparkSQL\")\n",
    "    .getOrCreate()\n",
    "}\n",
    "\n",
    "import spark.implicits._\n",
    "\n",
    "// Ce script fournit que élément supplémentaires pour rendre l'affichage plus confortable\n",
    "import $file.^.internal.spark_helper, spark_helper._"
   ]
  },
  {
   "cell_type": "markdown",
   "id": "b3f6af53-8a06-40f3-b9cd-0b47894c6f0d",
   "metadata": {
    "tags": []
   },
   "source": [
    "## Tweets\n",
    "\n",
    "Pour cet atelier, nous allons utiliser un dataser contenant des tweets au format JSON."
   ]
  },
  {
   "cell_type": "code",
   "execution_count": 3,
   "id": "0606fd0b-9a9e-4174-8513-6e23fd89de08",
   "metadata": {
    "tags": []
   },
   "outputs": [
    {
     "data": {
      "text/html": [
       "<script>\n",
       "var comm = Jupyter.notebook.kernel.comm_manager.new_comm('cancel-stage-e0a62d2a-eb4b-4e1b-8824-1555d32142d1', {});\n",
       "\n",
       "function cancelStage(stageId) {\n",
       "  console.log('Cancelling stage ' + stageId);\n",
       "  comm.send({ 'stageId': stageId });\n",
       "}\n",
       "</script>\n",
       "          "
      ]
     },
     "metadata": {},
     "output_type": "display_data"
    },
    {
     "data": {
      "text/html": [
       "<div>\n",
       "  <span style=\"float: left;\">json at cmd2.sc:3</span>\n",
       "</div>\n"
      ]
     },
     "metadata": {},
     "output_type": "display_data"
    },
    {
     "data": {
      "text/html": [
       "<div class=\"progress\">\n",
       "  <div class=\"progress-bar\" role=\"progressbar\" style=\"background-color: blue; width: 100%; word-wrap: normal; white-space: nowrap; text-align: center; color: white\" aria-valuenow=\"100\" aria-valuemin=\"0\" aria-valuemax=\"100\">\n",
       "    1 / 1\n",
       "  </div>\n",
       "  <div class=\"progress-bar\" role=\"progressbar\" style=\"background-color: red; width: 0%\" aria-valuenow=\"0\" aria-valuemin=\"0\" aria-valuemax=\"100\"></div>\n",
       "</div>\n"
      ]
     },
     "metadata": {},
     "output_type": "display_data"
    },
    {
     "data": {
      "text/html": [
       "<div>\n",
       "  <span style=\"float: left;\">showHTML</span>\n",
       "</div>\n"
      ]
     },
     "metadata": {},
     "output_type": "display_data"
    },
    {
     "data": {
      "text/html": [
       "<div class=\"progress\">\n",
       "  <div class=\"progress-bar\" role=\"progressbar\" style=\"background-color: blue; width: 100%; word-wrap: normal; white-space: nowrap; text-align: center; color: white\" aria-valuenow=\"100\" aria-valuemin=\"0\" aria-valuemax=\"100\">\n",
       "    1 / 1\n",
       "  </div>\n",
       "  <div class=\"progress-bar\" role=\"progressbar\" style=\"background-color: red; width: 0%\" aria-valuenow=\"0\" aria-valuemin=\"0\" aria-valuemax=\"100\"></div>\n",
       "</div>\n"
      ]
     },
     "metadata": {},
     "output_type": "display_data"
    },
    {
     "data": {
      "text/html": [
       "\n",
       "      <table class=\"table\">\n",
       "        <tr>\n",
       "        <th>contributors</th><th>coordinates</th><th>created_at</th><th>current_user_retweet</th><th>display_text_range</th><th>entities</th><th>extended_entities</th><th>extended_tweet</th><th>favorite_count</th><th>favorited</th><th>filter_level</th><th>geo</th><th>id</th><th>id_str</th><th>in_reply_to_screen_name</th><th>in_reply_to_status_id</th><th>in_reply_to_status_id_str</th><th>in_reply_to_user_id</th><th>in_reply_to_user_id_str</th><th>is_quote_status</th><th>lang</th><th>metadata</th><th>place</th><th>possibly_sensitive</th><th>quoted_status</th><th>quoted_status_id</th><th>quoted_status_id_str</th><th>retweet_count</th><th>retweeted</th><th>retweeted_status</th><th>scopes</th><th>source</th><th>text</th><th>truncated</th><th>user</th><th>withheld_copyright</th><th>withheld_in_countries</th><th>withheld_scope</th>\n",
       "        </tr>\n",
       "        <tr><td>[]</td><td>null</td><td>1632390898000</td><td>null</td><td>null</td><td>[null,ArraySeq([A...</td><td>null</td><td>null</td><td>0</td><td>false</td><td>null</td><td>null</td><td>1440977986258354178</td><td>1440977986258354178</td><td>null</td><td>null</td><td>null</td><td>null</td><td>null</td><td>false</td><td>en</td><td>[en,recent]</td><td>null</td><td>false</td><td>null</td><td>null</td><td>null</td><td>10</td><td>false</td><td>[ArraySeq(),null,...</td><td>[]</td><td>&lt;a href=&quot;https://...</td><td>RT @bigdataconf: ...</td><td>false</td><td>[false,false,fals...</td><td>false</td><td>[]</td><td>null</td></tr><tr><td>[]</td><td>null</td><td>1632390146000</td><td>null</td><td>null</td><td>[null,ArraySeq(),...</td><td>null</td><td>null</td><td>2</td><td>false</td><td>null</td><td>null</td><td>1440974830694715394</td><td>1440974830694715394</td><td>0x627A</td><td>1440974430524657665</td><td>1440974430524657665</td><td>1026015911797391361</td><td>1026015911797391361</td><td>false</td><td>pl</td><td>[pl,recent]</td><td>null</td><td>false</td><td>null</td><td>null</td><td>null</td><td>0</td><td>false</td><td>null</td><td>[]</td><td>&lt;a href=&quot;https://...</td><td>@0x627A Ja akurat...</td><td>true</td><td>[false,false,fals...</td><td>false</td><td>[]</td><td>null</td></tr><tr><td>[]</td><td>null</td><td>1632389583000</td><td>null</td><td>null</td><td>[null,ArraySeq(),...</td><td>null</td><td>null</td><td>0</td><td>false</td><td>null</td><td>null</td><td>1440972470945816576</td><td>1440972470945816576</td><td>null</td><td>null</td><td>null</td><td>null</td><td>null</td><td>false</td><td>fr</td><td>[fr,recent]</td><td>null</td><td>false</td><td>null</td><td>null</td><td>null</td><td>0</td><td>false</td><td>null</td><td>[]</td><td>&lt;a href=&quot;https://...</td><td>Comment choisir u...</td><td>false</td><td>[false,false,fals...</td><td>false</td><td>[]</td><td>null</td></tr><tr><td>[]</td><td>null</td><td>1632389234000</td><td>null</td><td>null</td><td>[null,ArraySeq(),...</td><td>null</td><td>null</td><td>0</td><td>false</td><td>null</td><td>null</td><td>1440971004378030081</td><td>1440971004378030081</td><td>null</td><td>null</td><td>null</td><td>null</td><td>null</td><td>false</td><td>en</td><td>[en,recent]</td><td>null</td><td>false</td><td>null</td><td>null</td><td>null</td><td>7</td><td>false</td><td>[ArraySeq(),null,...</td><td>[]</td><td>&lt;a href=&quot;https://...</td><td>RT @aahiknsv: Ful...</td><td>false</td><td>[false,false,fals...</td><td>false</td><td>[]</td><td>null</td></tr><tr><td>[]</td><td>null</td><td>1632388896000</td><td>null</td><td>null</td><td>[null,ArraySeq(),...</td><td>null</td><td>null</td><td>0</td><td>false</td><td>null</td><td>null</td><td>1440969590578704389</td><td>1440969590578704389</td><td>null</td><td>null</td><td>null</td><td>null</td><td>null</td><td>false</td><td>en</td><td>[en,recent]</td><td>null</td><td>false</td><td>null</td><td>null</td><td>null</td><td>7</td><td>false</td><td>[ArraySeq(),null,...</td><td>[]</td><td>&lt;a href=&quot;https://...</td><td>RT @aahiknsv: Ful...</td><td>false</td><td>[false,false,fals...</td><td>false</td><td>[]</td><td>null</td></tr><tr><td>[]</td><td>null</td><td>1632388186000</td><td>null</td><td>null</td><td>[null,ArraySeq([A...</td><td>null</td><td>null</td><td>0</td><td>false</td><td>null</td><td>null</td><td>1440966612379574280</td><td>1440966612379574280</td><td>null</td><td>null</td><td>null</td><td>null</td><td>null</td><td>false</td><td>en</td><td>[en,recent]</td><td>null</td><td>false</td><td>null</td><td>null</td><td>null</td><td>2</td><td>false</td><td>[ArraySeq(),null,...</td><td>[]</td><td>&lt;a href=&quot;https://...</td><td>RT @urbancompany_...</td><td>false</td><td>[false,false,fals...</td><td>false</td><td>[]</td><td>null</td></tr><tr><td>[]</td><td>null</td><td>1632387911000</td><td>null</td><td>null</td><td>[null,ArraySeq(),...</td><td>null</td><td>null</td><td>0</td><td>false</td><td>null</td><td>null</td><td>1440965458086154246</td><td>1440965458086154246</td><td>null</td><td>null</td><td>null</td><td>null</td><td>null</td><td>false</td><td>en</td><td>[en,recent]</td><td>null</td><td>false</td><td>null</td><td>null</td><td>null</td><td>7</td><td>false</td><td>[ArraySeq(),null,...</td><td>[]</td><td>&lt;a href=&quot;http://t...</td><td>RT @aahiknsv: Ful...</td><td>false</td><td>[false,false,fals...</td><td>false</td><td>[]</td><td>null</td></tr><tr><td>[]</td><td>null</td><td>1632387775000</td><td>null</td><td>null</td><td>[null,ArraySeq([A...</td><td>null</td><td>null</td><td>0</td><td>false</td><td>null</td><td>null</td><td>1440964886884798469</td><td>1440964886884798469</td><td>null</td><td>null</td><td>null</td><td>null</td><td>null</td><td>false</td><td>en</td><td>[en,recent]</td><td>null</td><td>false</td><td>null</td><td>null</td><td>null</td><td>1</td><td>false</td><td>[ArraySeq(),null,...</td><td>[]</td><td>&lt;a href=&quot;http://t...</td><td>RT @ra9z: 🎙️ E4:...</td><td>false</td><td>[false,false,fals...</td><td>false</td><td>[]</td><td>null</td></tr><tr><td>[]</td><td>null</td><td>1632387762000</td><td>null</td><td>null</td><td>[null,ArraySeq([A...</td><td>null</td><td>null</td><td>0</td><td>false</td><td>null</td><td>null</td><td>1440964834250559488</td><td>1440964834250559488</td><td>null</td><td>null</td><td>null</td><td>null</td><td>null</td><td>false</td><td>en</td><td>[en,recent]</td><td>null</td><td>false</td><td>null</td><td>null</td><td>null</td><td>2</td><td>false</td><td>[ArraySeq(),null,...</td><td>[]</td><td>&lt;a href=&quot;http://t...</td><td>RT @urbancompany_...</td><td>false</td><td>[false,false,fals...</td><td>false</td><td>[]</td><td>null</td></tr><tr><td>[]</td><td>null</td><td>1632387602000</td><td>null</td><td>null</td><td>[null,ArraySeq([A...</td><td>null</td><td>null</td><td>0</td><td>false</td><td>null</td><td>null</td><td>1440964159433105416</td><td>1440964159433105416</td><td>null</td><td>null</td><td>null</td><td>null</td><td>null</td><td>false</td><td>en</td><td>[en,recent]</td><td>null</td><td>false</td><td>null</td><td>null</td><td>null</td><td>0</td><td>false</td><td>null</td><td>[]</td><td>&lt;a href=&quot;https://...</td><td>Would you recomme...</td><td>false</td><td>[false,false,fals...</td><td>false</td><td>[]</td><td>null</td></tr>\n",
       "      </table>"
      ]
     },
     "metadata": {},
     "output_type": "display_data"
    },
    {
     "data": {
      "text/plain": [
       "\u001b[36mtweets\u001b[39m: \u001b[32mDataFrame\u001b[39m = [contributors: array<string>, coordinates: string ... 36 more fields]"
      ]
     },
     "execution_count": 3,
     "metadata": {},
     "output_type": "execute_result"
    }
   ],
   "source": [
    "val tweets =\n",
    "  spark.read\n",
    "    .json(\"data/tweets.json.gz\")\n",
    "    .cache()\n",
    "    .where($\"_corrupt_record\".isNull)\n",
    "    .drop(\"_corrupt_record\")\n",
    "\n",
    "tweets.showHTML(limit=10)"
   ]
  },
  {
   "cell_type": "markdown",
   "id": "34d1f74c-adb1-40d1-b34d-765e2d2388d3",
   "metadata": {},
   "source": [
    "Le [schéma des tweets](https://developer.twitter.com/en/docs/twitter-api/data-dictionary/object-model/tweet) est imposant et contient des sous-structures.\n",
    "\n",
    "Note : sur l'affichage ci-dessous, n'hésitez pas à cliquer-droit sur l'affichage du schéma et à sélectionner \"Enable Scrolling for Outputs\"."
   ]
  },
  {
   "cell_type": "code",
   "execution_count": 69,
   "id": "ba527c4e-4435-4135-9561-dfcf790845a3",
   "metadata": {
    "scrolled": true,
    "tags": []
   },
   "outputs": [
    {
     "name": "stdout",
     "output_type": "stream",
     "text": [
      "root\n",
      " |-- contributors: array (nullable = true)\n",
      " |    |-- element: string (containsNull = true)\n",
      " |-- coordinates: string (nullable = true)\n",
      " |-- created_at: long (nullable = true)\n",
      " |-- current_user_retweet: string (nullable = true)\n",
      " |-- display_text_range: string (nullable = true)\n",
      " |-- entities: struct (nullable = true)\n",
      " |    |-- description: string (nullable = true)\n",
      " |    |-- hashtags: array (nullable = true)\n",
      " |    |    |-- element: struct (containsNull = true)\n",
      " |    |    |    |-- indices: array (nullable = true)\n",
      " |    |    |    |    |-- element: long (containsNull = true)\n",
      " |    |    |    |-- text: string (nullable = true)\n",
      " |    |-- media: array (nullable = true)\n",
      " |    |    |-- element: struct (containsNull = true)\n",
      " |    |    |    |-- display_url: string (nullable = true)\n",
      " |    |    |    |-- expanded_url: string (nullable = true)\n",
      " |    |    |    |-- id: long (nullable = true)\n",
      " |    |    |    |-- id_str: string (nullable = true)\n",
      " |    |    |    |-- indices: array (nullable = true)\n",
      " |    |    |    |    |-- element: long (containsNull = true)\n",
      " |    |    |    |-- media_url: string (nullable = true)\n",
      " |    |    |    |-- media_url_https: string (nullable = true)\n",
      " |    |    |    |-- sizes: struct (nullable = true)\n",
      " |    |    |    |    |-- large: struct (nullable = true)\n",
      " |    |    |    |    |    |-- h: long (nullable = true)\n",
      " |    |    |    |    |    |-- resize: string (nullable = true)\n",
      " |    |    |    |    |    |-- w: long (nullable = true)\n",
      " |    |    |    |    |-- medium: struct (nullable = true)\n",
      " |    |    |    |    |    |-- h: long (nullable = true)\n",
      " |    |    |    |    |    |-- resize: string (nullable = true)\n",
      " |    |    |    |    |    |-- w: long (nullable = true)\n",
      " |    |    |    |    |-- small: struct (nullable = true)\n",
      " |    |    |    |    |    |-- h: long (nullable = true)\n",
      " |    |    |    |    |    |-- resize: string (nullable = true)\n",
      " |    |    |    |    |    |-- w: long (nullable = true)\n",
      " |    |    |    |    |-- thumb: struct (nullable = true)\n",
      " |    |    |    |    |    |-- h: long (nullable = true)\n",
      " |    |    |    |    |    |-- resize: string (nullable = true)\n",
      " |    |    |    |    |    |-- w: long (nullable = true)\n",
      " |    |    |    |-- source_status_id: long (nullable = true)\n",
      " |    |    |    |-- source_status_id_str: string (nullable = true)\n",
      " |    |    |    |-- type: string (nullable = true)\n",
      " |    |    |    |-- url: string (nullable = true)\n",
      " |    |    |    |-- video_info: string (nullable = true)\n",
      " |    |-- symbols: array (nullable = true)\n",
      " |    |    |-- element: struct (containsNull = true)\n",
      " |    |    |    |-- indices: array (nullable = true)\n",
      " |    |    |    |    |-- element: long (containsNull = true)\n",
      " |    |    |    |-- text: string (nullable = true)\n",
      " |    |-- url: string (nullable = true)\n",
      " |    |-- urls: array (nullable = true)\n",
      " |    |    |-- element: struct (containsNull = true)\n",
      " |    |    |    |-- display_url: string (nullable = true)\n",
      " |    |    |    |-- expanded_url: string (nullable = true)\n",
      " |    |    |    |-- indices: array (nullable = true)\n",
      " |    |    |    |    |-- element: long (containsNull = true)\n",
      " |    |    |    |-- url: string (nullable = true)\n",
      " |    |-- user_mentions: array (nullable = true)\n",
      " |    |    |-- element: struct (containsNull = true)\n",
      " |    |    |    |-- id: long (nullable = true)\n",
      " |    |    |    |-- id_str: string (nullable = true)\n",
      " |    |    |    |-- indices: array (nullable = true)\n",
      " |    |    |    |    |-- element: long (containsNull = true)\n",
      " |    |    |    |-- name: string (nullable = true)\n",
      " |    |    |    |-- screen_name: string (nullable = true)\n",
      " |-- extended_entities: struct (nullable = true)\n",
      " |    |-- description: string (nullable = true)\n",
      " |    |-- hashtags: array (nullable = true)\n",
      " |    |    |-- element: string (containsNull = true)\n",
      " |    |-- media: array (nullable = true)\n",
      " |    |    |-- element: struct (containsNull = true)\n",
      " |    |    |    |-- display_url: string (nullable = true)\n",
      " |    |    |    |-- expanded_url: string (nullable = true)\n",
      " |    |    |    |-- id: long (nullable = true)\n",
      " |    |    |    |-- id_str: string (nullable = true)\n",
      " |    |    |    |-- indices: array (nullable = true)\n",
      " |    |    |    |    |-- element: long (containsNull = true)\n",
      " |    |    |    |-- media_url: string (nullable = true)\n",
      " |    |    |    |-- media_url_https: string (nullable = true)\n",
      " |    |    |    |-- sizes: struct (nullable = true)\n",
      " |    |    |    |    |-- large: struct (nullable = true)\n",
      " |    |    |    |    |    |-- h: long (nullable = true)\n",
      " |    |    |    |    |    |-- resize: string (nullable = true)\n",
      " |    |    |    |    |    |-- w: long (nullable = true)\n",
      " |    |    |    |    |-- medium: struct (nullable = true)\n",
      " |    |    |    |    |    |-- h: long (nullable = true)\n",
      " |    |    |    |    |    |-- resize: string (nullable = true)\n",
      " |    |    |    |    |    |-- w: long (nullable = true)\n",
      " |    |    |    |    |-- small: struct (nullable = true)\n",
      " |    |    |    |    |    |-- h: long (nullable = true)\n",
      " |    |    |    |    |    |-- resize: string (nullable = true)\n",
      " |    |    |    |    |    |-- w: long (nullable = true)\n",
      " |    |    |    |    |-- thumb: struct (nullable = true)\n",
      " |    |    |    |    |    |-- h: long (nullable = true)\n",
      " |    |    |    |    |    |-- resize: string (nullable = true)\n",
      " |    |    |    |    |    |-- w: long (nullable = true)\n",
      " |    |    |    |-- source_status_id: long (nullable = true)\n",
      " |    |    |    |-- source_status_id_str: string (nullable = true)\n",
      " |    |    |    |-- type: string (nullable = true)\n",
      " |    |    |    |-- url: string (nullable = true)\n",
      " |    |    |    |-- video_info: struct (nullable = true)\n",
      " |    |    |    |    |-- aspect_ratio: array (nullable = true)\n",
      " |    |    |    |    |    |-- element: long (containsNull = true)\n",
      " |    |    |    |    |-- duration_millis: long (nullable = true)\n",
      " |    |    |    |    |-- variants: array (nullable = true)\n",
      " |    |    |    |    |    |-- element: struct (containsNull = true)\n",
      " |    |    |    |    |    |    |-- bitrate: long (nullable = true)\n",
      " |    |    |    |    |    |    |-- content_type: string (nullable = true)\n",
      " |    |    |    |    |    |    |-- url: string (nullable = true)\n",
      " |    |-- symbols: array (nullable = true)\n",
      " |    |    |-- element: string (containsNull = true)\n",
      " |    |-- url: string (nullable = true)\n",
      " |    |-- urls: array (nullable = true)\n",
      " |    |    |-- element: string (containsNull = true)\n",
      " |    |-- user_mentions: array (nullable = true)\n",
      " |    |    |-- element: string (containsNull = true)\n",
      " |-- extended_tweet: string (nullable = true)\n",
      " |-- favorite_count: long (nullable = true)\n",
      " |-- favorited: boolean (nullable = true)\n",
      " |-- filter_level: string (nullable = true)\n",
      " |-- geo: string (nullable = true)\n",
      " |-- id: long (nullable = true)\n",
      " |-- id_str: string (nullable = true)\n",
      " |-- in_reply_to_screen_name: string (nullable = true)\n",
      " |-- in_reply_to_status_id: long (nullable = true)\n",
      " |-- in_reply_to_status_id_str: string (nullable = true)\n",
      " |-- in_reply_to_user_id: long (nullable = true)\n",
      " |-- in_reply_to_user_id_str: string (nullable = true)\n",
      " |-- is_quote_status: boolean (nullable = true)\n",
      " |-- lang: string (nullable = true)\n",
      " |-- metadata: struct (nullable = true)\n",
      " |    |-- iso_language_code: string (nullable = true)\n",
      " |    |-- result_type: string (nullable = true)\n",
      " |-- place: string (nullable = true)\n",
      " |-- possibly_sensitive: boolean (nullable = true)\n",
      " |-- quoted_status: struct (nullable = true)\n",
      " |    |-- contributors: array (nullable = true)\n",
      " |    |    |-- element: string (containsNull = true)\n",
      " |    |-- coordinates: string (nullable = true)\n",
      " |    |-- created_at: long (nullable = true)\n",
      " |    |-- current_user_retweet: string (nullable = true)\n",
      " |    |-- display_text_range: string (nullable = true)\n",
      " |    |-- entities: struct (nullable = true)\n",
      " |    |    |-- description: string (nullable = true)\n",
      " |    |    |-- hashtags: array (nullable = true)\n",
      " |    |    |    |-- element: struct (containsNull = true)\n",
      " |    |    |    |    |-- indices: array (nullable = true)\n",
      " |    |    |    |    |    |-- element: long (containsNull = true)\n",
      " |    |    |    |    |-- text: string (nullable = true)\n",
      " |    |    |-- media: array (nullable = true)\n",
      " |    |    |    |-- element: struct (containsNull = true)\n",
      " |    |    |    |    |-- display_url: string (nullable = true)\n",
      " |    |    |    |    |-- expanded_url: string (nullable = true)\n",
      " |    |    |    |    |-- id: long (nullable = true)\n",
      " |    |    |    |    |-- id_str: string (nullable = true)\n",
      " |    |    |    |    |-- indices: array (nullable = true)\n",
      " |    |    |    |    |    |-- element: long (containsNull = true)\n",
      " |    |    |    |    |-- media_url: string (nullable = true)\n",
      " |    |    |    |    |-- media_url_https: string (nullable = true)\n",
      " |    |    |    |    |-- sizes: struct (nullable = true)\n",
      " |    |    |    |    |    |-- large: struct (nullable = true)\n",
      " |    |    |    |    |    |    |-- h: long (nullable = true)\n",
      " |    |    |    |    |    |    |-- resize: string (nullable = true)\n",
      " |    |    |    |    |    |    |-- w: long (nullable = true)\n",
      " |    |    |    |    |    |-- medium: struct (nullable = true)\n",
      " |    |    |    |    |    |    |-- h: long (nullable = true)\n",
      " |    |    |    |    |    |    |-- resize: string (nullable = true)\n",
      " |    |    |    |    |    |    |-- w: long (nullable = true)\n",
      " |    |    |    |    |    |-- small: struct (nullable = true)\n",
      " |    |    |    |    |    |    |-- h: long (nullable = true)\n",
      " |    |    |    |    |    |    |-- resize: string (nullable = true)\n",
      " |    |    |    |    |    |    |-- w: long (nullable = true)\n",
      " |    |    |    |    |    |-- thumb: struct (nullable = true)\n",
      " |    |    |    |    |    |    |-- h: long (nullable = true)\n",
      " |    |    |    |    |    |    |-- resize: string (nullable = true)\n",
      " |    |    |    |    |    |    |-- w: long (nullable = true)\n",
      " |    |    |    |    |-- source_status_id: string (nullable = true)\n",
      " |    |    |    |    |-- source_status_id_str: string (nullable = true)\n",
      " |    |    |    |    |-- type: string (nullable = true)\n",
      " |    |    |    |    |-- url: string (nullable = true)\n",
      " |    |    |    |    |-- video_info: string (nullable = true)\n",
      " |    |    |-- symbols: array (nullable = true)\n",
      " |    |    |    |-- element: string (containsNull = true)\n",
      " |    |    |-- url: string (nullable = true)\n",
      " |    |    |-- urls: array (nullable = true)\n",
      " |    |    |    |-- element: struct (containsNull = true)\n",
      " |    |    |    |    |-- display_url: string (nullable = true)\n",
      " |    |    |    |    |-- expanded_url: string (nullable = true)\n",
      " |    |    |    |    |-- indices: array (nullable = true)\n",
      " |    |    |    |    |    |-- element: long (containsNull = true)\n",
      " |    |    |    |    |-- url: string (nullable = true)\n",
      " |    |    |-- user_mentions: array (nullable = true)\n",
      " |    |    |    |-- element: struct (containsNull = true)\n",
      " |    |    |    |    |-- id: long (nullable = true)\n",
      " |    |    |    |    |-- id_str: string (nullable = true)\n",
      " |    |    |    |    |-- indices: array (nullable = true)\n",
      " |    |    |    |    |    |-- element: long (containsNull = true)\n",
      " |    |    |    |    |-- name: string (nullable = true)\n",
      " |    |    |    |    |-- screen_name: string (nullable = true)\n",
      " |    |-- extended_entities: struct (nullable = true)\n",
      " |    |    |-- description: string (nullable = true)\n",
      " |    |    |-- hashtags: array (nullable = true)\n",
      " |    |    |    |-- element: string (containsNull = true)\n",
      " |    |    |-- media: array (nullable = true)\n",
      " |    |    |    |-- element: struct (containsNull = true)\n",
      " |    |    |    |    |-- display_url: string (nullable = true)\n",
      " |    |    |    |    |-- expanded_url: string (nullable = true)\n",
      " |    |    |    |    |-- id: long (nullable = true)\n",
      " |    |    |    |    |-- id_str: string (nullable = true)\n",
      " |    |    |    |    |-- indices: array (nullable = true)\n",
      " |    |    |    |    |    |-- element: long (containsNull = true)\n",
      " |    |    |    |    |-- media_url: string (nullable = true)\n",
      " |    |    |    |    |-- media_url_https: string (nullable = true)\n",
      " |    |    |    |    |-- sizes: struct (nullable = true)\n",
      " |    |    |    |    |    |-- large: struct (nullable = true)\n",
      " |    |    |    |    |    |    |-- h: long (nullable = true)\n",
      " |    |    |    |    |    |    |-- resize: string (nullable = true)\n",
      " |    |    |    |    |    |    |-- w: long (nullable = true)\n",
      " |    |    |    |    |    |-- medium: struct (nullable = true)\n",
      " |    |    |    |    |    |    |-- h: long (nullable = true)\n",
      " |    |    |    |    |    |    |-- resize: string (nullable = true)\n",
      " |    |    |    |    |    |    |-- w: long (nullable = true)\n",
      " |    |    |    |    |    |-- small: struct (nullable = true)\n",
      " |    |    |    |    |    |    |-- h: long (nullable = true)\n",
      " |    |    |    |    |    |    |-- resize: string (nullable = true)\n",
      " |    |    |    |    |    |    |-- w: long (nullable = true)\n",
      " |    |    |    |    |    |-- thumb: struct (nullable = true)\n",
      " |    |    |    |    |    |    |-- h: long (nullable = true)\n",
      " |    |    |    |    |    |    |-- resize: string (nullable = true)\n",
      " |    |    |    |    |    |    |-- w: long (nullable = true)\n",
      " |    |    |    |    |-- source_status_id: string (nullable = true)\n",
      " |    |    |    |    |-- source_status_id_str: string (nullable = true)\n",
      " |    |    |    |    |-- type: string (nullable = true)\n",
      " |    |    |    |    |-- url: string (nullable = true)\n",
      " |    |    |    |    |-- video_info: string (nullable = true)\n",
      " |    |    |-- symbols: array (nullable = true)\n",
      " |    |    |    |-- element: string (containsNull = true)\n",
      " |    |    |-- url: string (nullable = true)\n",
      " |    |    |-- urls: array (nullable = true)\n",
      " |    |    |    |-- element: string (containsNull = true)\n",
      " |    |    |-- user_mentions: array (nullable = true)\n",
      " |    |    |    |-- element: string (containsNull = true)\n",
      " |    |-- extended_tweet: string (nullable = true)\n",
      " |    |-- favorite_count: long (nullable = true)\n",
      " |    |-- favorited: boolean (nullable = true)\n",
      " |    |-- filter_level: string (nullable = true)\n",
      " |    |-- geo: string (nullable = true)\n",
      " |    |-- id: long (nullable = true)\n",
      " |    |-- id_str: string (nullable = true)\n",
      " |    |-- in_reply_to_screen_name: string (nullable = true)\n",
      " |    |-- in_reply_to_status_id: long (nullable = true)\n",
      " |    |-- in_reply_to_status_id_str: string (nullable = true)\n",
      " |    |-- in_reply_to_user_id: long (nullable = true)\n",
      " |    |-- in_reply_to_user_id_str: string (nullable = true)\n",
      " |    |-- is_quote_status: boolean (nullable = true)\n",
      " |    |-- lang: string (nullable = true)\n",
      " |    |-- metadata: struct (nullable = true)\n",
      " |    |    |-- iso_language_code: string (nullable = true)\n",
      " |    |    |-- result_type: string (nullable = true)\n",
      " |    |-- place: string (nullable = true)\n",
      " |    |-- possibly_sensitive: boolean (nullable = true)\n",
      " |    |-- quoted_status: string (nullable = true)\n",
      " |    |-- quoted_status_id: long (nullable = true)\n",
      " |    |-- quoted_status_id_str: string (nullable = true)\n",
      " |    |-- retweet_count: long (nullable = true)\n",
      " |    |-- retweeted: boolean (nullable = true)\n",
      " |    |-- retweeted_status: string (nullable = true)\n",
      " |    |-- scopes: array (nullable = true)\n",
      " |    |    |-- element: string (containsNull = true)\n",
      " |    |-- source: string (nullable = true)\n",
      " |    |-- text: string (nullable = true)\n",
      " |    |-- truncated: boolean (nullable = true)\n",
      " |    |-- user: struct (nullable = true)\n",
      " |    |    |-- blocked_by: boolean (nullable = true)\n",
      " |    |    |-- blocking: boolean (nullable = true)\n",
      " |    |    |-- contributors_enabled: boolean (nullable = true)\n",
      " |    |    |-- created_at: long (nullable = true)\n",
      " |    |    |-- default_profile: boolean (nullable = true)\n",
      " |    |    |-- default_profile_image: boolean (nullable = true)\n",
      " |    |    |-- description: string (nullable = true)\n",
      " |    |    |-- email: string (nullable = true)\n",
      " |    |    |-- follow_request_sent: boolean (nullable = true)\n",
      " |    |    |-- followers_count: long (nullable = true)\n",
      " |    |    |-- friends_count: long (nullable = true)\n",
      " |    |    |-- geo_enabled: boolean (nullable = true)\n",
      " |    |    |-- has_extended_profile: boolean (nullable = true)\n",
      " |    |    |-- id: long (nullable = true)\n",
      " |    |    |-- id_str: string (nullable = true)\n",
      " |    |    |-- is_translation_enabled: boolean (nullable = true)\n",
      " |    |    |-- is_translator: boolean (nullable = true)\n",
      " |    |    |-- lang: string (nullable = true)\n",
      " |    |    |-- listed_count: long (nullable = true)\n",
      " |    |    |-- location: string (nullable = true)\n",
      " |    |    |-- muting: boolean (nullable = true)\n",
      " |    |    |-- name: string (nullable = true)\n",
      " |    |    |-- notifications: boolean (nullable = true)\n",
      " |    |    |-- protected: boolean (nullable = true)\n",
      " |    |    |-- screen_name: string (nullable = true)\n",
      " |    |    |-- show_all_inline_media: boolean (nullable = true)\n",
      " |    |    |-- status: string (nullable = true)\n",
      " |    |    |-- statuses_count: long (nullable = true)\n",
      " |    |    |-- time_zone: string (nullable = true)\n",
      " |    |    |-- translator_type: string (nullable = true)\n",
      " |    |    |-- url: string (nullable = true)\n",
      " |    |    |-- utc_offset: string (nullable = true)\n",
      " |    |    |-- verified: boolean (nullable = true)\n",
      " |    |-- withheld_copyright: boolean (nullable = true)\n",
      " |    |-- withheld_in_countries: array (nullable = true)\n",
      " |    |    |-- element: string (containsNull = true)\n",
      " |    |-- withheld_scope: string (nullable = true)\n",
      " |-- quoted_status_id: long (nullable = true)\n",
      " |-- quoted_status_id_str: string (nullable = true)\n",
      " |-- retweet_count: long (nullable = true)\n",
      " |-- retweeted: boolean (nullable = true)\n",
      " |-- retweeted_status: struct (nullable = true)\n",
      " |    |-- contributors: array (nullable = true)\n",
      " |    |    |-- element: string (containsNull = true)\n",
      " |    |-- coordinates: string (nullable = true)\n",
      " |    |-- created_at: long (nullable = true)\n",
      " |    |-- current_user_retweet: string (nullable = true)\n",
      " |    |-- display_text_range: string (nullable = true)\n",
      " |    |-- entities: struct (nullable = true)\n",
      " |    |    |-- description: string (nullable = true)\n",
      " |    |    |-- hashtags: array (nullable = true)\n",
      " |    |    |    |-- element: struct (containsNull = true)\n",
      " |    |    |    |    |-- indices: array (nullable = true)\n",
      " |    |    |    |    |    |-- element: long (containsNull = true)\n",
      " |    |    |    |    |-- text: string (nullable = true)\n",
      " |    |    |-- media: array (nullable = true)\n",
      " |    |    |    |-- element: struct (containsNull = true)\n",
      " |    |    |    |    |-- display_url: string (nullable = true)\n",
      " |    |    |    |    |-- expanded_url: string (nullable = true)\n",
      " |    |    |    |    |-- id: long (nullable = true)\n",
      " |    |    |    |    |-- id_str: string (nullable = true)\n",
      " |    |    |    |    |-- indices: array (nullable = true)\n",
      " |    |    |    |    |    |-- element: long (containsNull = true)\n",
      " |    |    |    |    |-- media_url: string (nullable = true)\n",
      " |    |    |    |    |-- media_url_https: string (nullable = true)\n",
      " |    |    |    |    |-- sizes: struct (nullable = true)\n",
      " |    |    |    |    |    |-- large: struct (nullable = true)\n",
      " |    |    |    |    |    |    |-- h: long (nullable = true)\n",
      " |    |    |    |    |    |    |-- resize: string (nullable = true)\n",
      " |    |    |    |    |    |    |-- w: long (nullable = true)\n",
      " |    |    |    |    |    |-- medium: struct (nullable = true)\n",
      " |    |    |    |    |    |    |-- h: long (nullable = true)\n",
      " |    |    |    |    |    |    |-- resize: string (nullable = true)\n",
      " |    |    |    |    |    |    |-- w: long (nullable = true)\n",
      " |    |    |    |    |    |-- small: struct (nullable = true)\n",
      " |    |    |    |    |    |    |-- h: long (nullable = true)\n",
      " |    |    |    |    |    |    |-- resize: string (nullable = true)\n",
      " |    |    |    |    |    |    |-- w: long (nullable = true)\n",
      " |    |    |    |    |    |-- thumb: struct (nullable = true)\n",
      " |    |    |    |    |    |    |-- h: long (nullable = true)\n",
      " |    |    |    |    |    |    |-- resize: string (nullable = true)\n",
      " |    |    |    |    |    |    |-- w: long (nullable = true)\n",
      " |    |    |    |    |-- source_status_id: string (nullable = true)\n",
      " |    |    |    |    |-- source_status_id_str: string (nullable = true)\n",
      " |    |    |    |    |-- type: string (nullable = true)\n",
      " |    |    |    |    |-- url: string (nullable = true)\n",
      " |    |    |    |    |-- video_info: string (nullable = true)\n",
      " |    |    |-- symbols: array (nullable = true)\n",
      " |    |    |    |-- element: string (containsNull = true)\n",
      " |    |    |-- url: string (nullable = true)\n",
      " |    |    |-- urls: array (nullable = true)\n",
      " |    |    |    |-- element: struct (containsNull = true)\n",
      " |    |    |    |    |-- display_url: string (nullable = true)\n",
      " |    |    |    |    |-- expanded_url: string (nullable = true)\n",
      " |    |    |    |    |-- indices: array (nullable = true)\n",
      " |    |    |    |    |    |-- element: long (containsNull = true)\n",
      " |    |    |    |    |-- url: string (nullable = true)\n",
      " |    |    |-- user_mentions: array (nullable = true)\n",
      " |    |    |    |-- element: struct (containsNull = true)\n",
      " |    |    |    |    |-- id: long (nullable = true)\n",
      " |    |    |    |    |-- id_str: string (nullable = true)\n",
      " |    |    |    |    |-- indices: array (nullable = true)\n",
      " |    |    |    |    |    |-- element: long (containsNull = true)\n",
      " |    |    |    |    |-- name: string (nullable = true)\n",
      " |    |    |    |    |-- screen_name: string (nullable = true)\n",
      " |    |-- extended_entities: struct (nullable = true)\n",
      " |    |    |-- description: string (nullable = true)\n",
      " |    |    |-- hashtags: array (nullable = true)\n",
      " |    |    |    |-- element: string (containsNull = true)\n",
      " |    |    |-- media: array (nullable = true)\n",
      " |    |    |    |-- element: struct (containsNull = true)\n",
      " |    |    |    |    |-- display_url: string (nullable = true)\n",
      " |    |    |    |    |-- expanded_url: string (nullable = true)\n",
      " |    |    |    |    |-- id: long (nullable = true)\n",
      " |    |    |    |    |-- id_str: string (nullable = true)\n",
      " |    |    |    |    |-- indices: array (nullable = true)\n",
      " |    |    |    |    |    |-- element: long (containsNull = true)\n",
      " |    |    |    |    |-- media_url: string (nullable = true)\n",
      " |    |    |    |    |-- media_url_https: string (nullable = true)\n",
      " |    |    |    |    |-- sizes: struct (nullable = true)\n",
      " |    |    |    |    |    |-- large: struct (nullable = true)\n",
      " |    |    |    |    |    |    |-- h: long (nullable = true)\n",
      " |    |    |    |    |    |    |-- resize: string (nullable = true)\n",
      " |    |    |    |    |    |    |-- w: long (nullable = true)\n",
      " |    |    |    |    |    |-- medium: struct (nullable = true)\n",
      " |    |    |    |    |    |    |-- h: long (nullable = true)\n",
      " |    |    |    |    |    |    |-- resize: string (nullable = true)\n",
      " |    |    |    |    |    |    |-- w: long (nullable = true)\n",
      " |    |    |    |    |    |-- small: struct (nullable = true)\n",
      " |    |    |    |    |    |    |-- h: long (nullable = true)\n",
      " |    |    |    |    |    |    |-- resize: string (nullable = true)\n",
      " |    |    |    |    |    |    |-- w: long (nullable = true)\n",
      " |    |    |    |    |    |-- thumb: struct (nullable = true)\n",
      " |    |    |    |    |    |    |-- h: long (nullable = true)\n",
      " |    |    |    |    |    |    |-- resize: string (nullable = true)\n",
      " |    |    |    |    |    |    |-- w: long (nullable = true)\n",
      " |    |    |    |    |-- source_status_id: string (nullable = true)\n",
      " |    |    |    |    |-- source_status_id_str: string (nullable = true)\n",
      " |    |    |    |    |-- type: string (nullable = true)\n",
      " |    |    |    |    |-- url: string (nullable = true)\n",
      " |    |    |    |    |-- video_info: struct (nullable = true)\n",
      " |    |    |    |    |    |-- aspect_ratio: array (nullable = true)\n",
      " |    |    |    |    |    |    |-- element: long (containsNull = true)\n",
      " |    |    |    |    |    |-- duration_millis: string (nullable = true)\n",
      " |    |    |    |    |    |-- variants: array (nullable = true)\n",
      " |    |    |    |    |    |    |-- element: struct (containsNull = true)\n",
      " |    |    |    |    |    |    |    |-- bitrate: long (nullable = true)\n",
      " |    |    |    |    |    |    |    |-- content_type: string (nullable = true)\n",
      " |    |    |    |    |    |    |    |-- url: string (nullable = true)\n",
      " |    |    |-- symbols: array (nullable = true)\n",
      " |    |    |    |-- element: string (containsNull = true)\n",
      " |    |    |-- url: string (nullable = true)\n",
      " |    |    |-- urls: array (nullable = true)\n",
      " |    |    |    |-- element: string (containsNull = true)\n",
      " |    |    |-- user_mentions: array (nullable = true)\n",
      " |    |    |    |-- element: string (containsNull = true)\n",
      " |    |-- extended_tweet: string (nullable = true)\n",
      " |    |-- favorite_count: long (nullable = true)\n",
      " |    |-- favorited: boolean (nullable = true)\n",
      " |    |-- filter_level: string (nullable = true)\n",
      " |    |-- geo: string (nullable = true)\n",
      " |    |-- id: long (nullable = true)\n",
      " |    |-- id_str: string (nullable = true)\n",
      " |    |-- in_reply_to_screen_name: string (nullable = true)\n",
      " |    |-- in_reply_to_status_id: long (nullable = true)\n",
      " |    |-- in_reply_to_status_id_str: string (nullable = true)\n",
      " |    |-- in_reply_to_user_id: long (nullable = true)\n",
      " |    |-- in_reply_to_user_id_str: string (nullable = true)\n",
      " |    |-- is_quote_status: boolean (nullable = true)\n",
      " |    |-- lang: string (nullable = true)\n",
      " |    |-- metadata: struct (nullable = true)\n",
      " |    |    |-- iso_language_code: string (nullable = true)\n",
      " |    |    |-- result_type: string (nullable = true)\n",
      " |    |-- place: string (nullable = true)\n",
      " |    |-- possibly_sensitive: boolean (nullable = true)\n",
      " |    |-- quoted_status: struct (nullable = true)\n",
      " |    |    |-- contributors: array (nullable = true)\n",
      " |    |    |    |-- element: string (containsNull = true)\n",
      " |    |    |-- coordinates: string (nullable = true)\n",
      " |    |    |-- created_at: long (nullable = true)\n",
      " |    |    |-- current_user_retweet: string (nullable = true)\n",
      " |    |    |-- display_text_range: string (nullable = true)\n",
      " |    |    |-- entities: struct (nullable = true)\n",
      " |    |    |    |-- description: string (nullable = true)\n",
      " |    |    |    |-- hashtags: array (nullable = true)\n",
      " |    |    |    |    |-- element: struct (containsNull = true)\n",
      " |    |    |    |    |    |-- indices: array (nullable = true)\n",
      " |    |    |    |    |    |    |-- element: long (containsNull = true)\n",
      " |    |    |    |    |    |-- text: string (nullable = true)\n",
      " |    |    |    |-- media: array (nullable = true)\n",
      " |    |    |    |    |-- element: struct (containsNull = true)\n",
      " |    |    |    |    |    |-- display_url: string (nullable = true)\n",
      " |    |    |    |    |    |-- expanded_url: string (nullable = true)\n",
      " |    |    |    |    |    |-- id: long (nullable = true)\n",
      " |    |    |    |    |    |-- id_str: string (nullable = true)\n",
      " |    |    |    |    |    |-- indices: array (nullable = true)\n",
      " |    |    |    |    |    |    |-- element: long (containsNull = true)\n",
      " |    |    |    |    |    |-- media_url: string (nullable = true)\n",
      " |    |    |    |    |    |-- media_url_https: string (nullable = true)\n",
      " |    |    |    |    |    |-- sizes: struct (nullable = true)\n",
      " |    |    |    |    |    |    |-- large: struct (nullable = true)\n",
      " |    |    |    |    |    |    |    |-- h: long (nullable = true)\n",
      " |    |    |    |    |    |    |    |-- resize: string (nullable = true)\n",
      " |    |    |    |    |    |    |    |-- w: long (nullable = true)\n",
      " |    |    |    |    |    |    |-- medium: struct (nullable = true)\n",
      " |    |    |    |    |    |    |    |-- h: long (nullable = true)\n",
      " |    |    |    |    |    |    |    |-- resize: string (nullable = true)\n",
      " |    |    |    |    |    |    |    |-- w: long (nullable = true)\n",
      " |    |    |    |    |    |    |-- small: struct (nullable = true)\n",
      " |    |    |    |    |    |    |    |-- h: long (nullable = true)\n",
      " |    |    |    |    |    |    |    |-- resize: string (nullable = true)\n",
      " |    |    |    |    |    |    |    |-- w: long (nullable = true)\n",
      " |    |    |    |    |    |    |-- thumb: struct (nullable = true)\n",
      " |    |    |    |    |    |    |    |-- h: long (nullable = true)\n",
      " |    |    |    |    |    |    |    |-- resize: string (nullable = true)\n",
      " |    |    |    |    |    |    |    |-- w: long (nullable = true)\n",
      " |    |    |    |    |    |-- source_status_id: string (nullable = true)\n",
      " |    |    |    |    |    |-- source_status_id_str: string (nullable = true)\n",
      " |    |    |    |    |    |-- type: string (nullable = true)\n",
      " |    |    |    |    |    |-- url: string (nullable = true)\n",
      " |    |    |    |    |    |-- video_info: string (nullable = true)\n",
      " |    |    |    |-- symbols: array (nullable = true)\n",
      " |    |    |    |    |-- element: string (containsNull = true)\n",
      " |    |    |    |-- url: string (nullable = true)\n",
      " |    |    |    |-- urls: array (nullable = true)\n",
      " |    |    |    |    |-- element: struct (containsNull = true)\n",
      " |    |    |    |    |    |-- display_url: string (nullable = true)\n",
      " |    |    |    |    |    |-- expanded_url: string (nullable = true)\n",
      " |    |    |    |    |    |-- indices: array (nullable = true)\n",
      " |    |    |    |    |    |    |-- element: long (containsNull = true)\n",
      " |    |    |    |    |    |-- url: string (nullable = true)\n",
      " |    |    |    |-- user_mentions: array (nullable = true)\n",
      " |    |    |    |    |-- element: struct (containsNull = true)\n",
      " |    |    |    |    |    |-- id: long (nullable = true)\n",
      " |    |    |    |    |    |-- id_str: string (nullable = true)\n",
      " |    |    |    |    |    |-- indices: array (nullable = true)\n",
      " |    |    |    |    |    |    |-- element: long (containsNull = true)\n",
      " |    |    |    |    |    |-- name: string (nullable = true)\n",
      " |    |    |    |    |    |-- screen_name: string (nullable = true)\n",
      " |    |    |-- extended_entities: struct (nullable = true)\n",
      " |    |    |    |-- description: string (nullable = true)\n",
      " |    |    |    |-- hashtags: array (nullable = true)\n",
      " |    |    |    |    |-- element: string (containsNull = true)\n",
      " |    |    |    |-- media: array (nullable = true)\n",
      " |    |    |    |    |-- element: struct (containsNull = true)\n",
      " |    |    |    |    |    |-- display_url: string (nullable = true)\n",
      " |    |    |    |    |    |-- expanded_url: string (nullable = true)\n",
      " |    |    |    |    |    |-- id: long (nullable = true)\n",
      " |    |    |    |    |    |-- id_str: string (nullable = true)\n",
      " |    |    |    |    |    |-- indices: array (nullable = true)\n",
      " |    |    |    |    |    |    |-- element: long (containsNull = true)\n",
      " |    |    |    |    |    |-- media_url: string (nullable = true)\n",
      " |    |    |    |    |    |-- media_url_https: string (nullable = true)\n",
      " |    |    |    |    |    |-- sizes: struct (nullable = true)\n",
      " |    |    |    |    |    |    |-- large: struct (nullable = true)\n",
      " |    |    |    |    |    |    |    |-- h: long (nullable = true)\n",
      " |    |    |    |    |    |    |    |-- resize: string (nullable = true)\n",
      " |    |    |    |    |    |    |    |-- w: long (nullable = true)\n",
      " |    |    |    |    |    |    |-- medium: struct (nullable = true)\n",
      " |    |    |    |    |    |    |    |-- h: long (nullable = true)\n",
      " |    |    |    |    |    |    |    |-- resize: string (nullable = true)\n",
      " |    |    |    |    |    |    |    |-- w: long (nullable = true)\n",
      " |    |    |    |    |    |    |-- small: struct (nullable = true)\n",
      " |    |    |    |    |    |    |    |-- h: long (nullable = true)\n",
      " |    |    |    |    |    |    |    |-- resize: string (nullable = true)\n",
      " |    |    |    |    |    |    |    |-- w: long (nullable = true)\n",
      " |    |    |    |    |    |    |-- thumb: struct (nullable = true)\n",
      " |    |    |    |    |    |    |    |-- h: long (nullable = true)\n",
      " |    |    |    |    |    |    |    |-- resize: string (nullable = true)\n",
      " |    |    |    |    |    |    |    |-- w: long (nullable = true)\n",
      " |    |    |    |    |    |-- source_status_id: string (nullable = true)\n",
      " |    |    |    |    |    |-- source_status_id_str: string (nullable = true)\n",
      " |    |    |    |    |    |-- type: string (nullable = true)\n",
      " |    |    |    |    |    |-- url: string (nullable = true)\n",
      " |    |    |    |    |    |-- video_info: string (nullable = true)\n",
      " |    |    |    |-- symbols: array (nullable = true)\n",
      " |    |    |    |    |-- element: string (containsNull = true)\n",
      " |    |    |    |-- url: string (nullable = true)\n",
      " |    |    |    |-- urls: array (nullable = true)\n",
      " |    |    |    |    |-- element: string (containsNull = true)\n",
      " |    |    |    |-- user_mentions: array (nullable = true)\n",
      " |    |    |    |    |-- element: string (containsNull = true)\n",
      " |    |    |-- extended_tweet: string (nullable = true)\n",
      " |    |    |-- favorite_count: long (nullable = true)\n",
      " |    |    |-- favorited: boolean (nullable = true)\n",
      " |    |    |-- filter_level: string (nullable = true)\n",
      " |    |    |-- geo: string (nullable = true)\n",
      " |    |    |-- id: long (nullable = true)\n",
      " |    |    |-- id_str: string (nullable = true)\n",
      " |    |    |-- in_reply_to_screen_name: string (nullable = true)\n",
      " |    |    |-- in_reply_to_status_id: long (nullable = true)\n",
      " |    |    |-- in_reply_to_status_id_str: string (nullable = true)\n",
      " |    |    |-- in_reply_to_user_id: long (nullable = true)\n",
      " |    |    |-- in_reply_to_user_id_str: string (nullable = true)\n",
      " |    |    |-- is_quote_status: boolean (nullable = true)\n",
      " |    |    |-- lang: string (nullable = true)\n",
      " |    |    |-- metadata: struct (nullable = true)\n",
      " |    |    |    |-- iso_language_code: string (nullable = true)\n",
      " |    |    |    |-- result_type: string (nullable = true)\n",
      " |    |    |-- place: string (nullable = true)\n",
      " |    |    |-- possibly_sensitive: boolean (nullable = true)\n",
      " |    |    |-- quoted_status: string (nullable = true)\n",
      " |    |    |-- quoted_status_id: string (nullable = true)\n",
      " |    |    |-- quoted_status_id_str: string (nullable = true)\n",
      " |    |    |-- retweet_count: long (nullable = true)\n",
      " |    |    |-- retweeted: boolean (nullable = true)\n",
      " |    |    |-- retweeted_status: string (nullable = true)\n",
      " |    |    |-- scopes: array (nullable = true)\n",
      " |    |    |    |-- element: string (containsNull = true)\n",
      " |    |    |-- source: string (nullable = true)\n",
      " |    |    |-- text: string (nullable = true)\n",
      " |    |    |-- truncated: boolean (nullable = true)\n",
      " |    |    |-- user: struct (nullable = true)\n",
      " |    |    |    |-- blocked_by: boolean (nullable = true)\n",
      " |    |    |    |-- blocking: boolean (nullable = true)\n",
      " |    |    |    |-- contributors_enabled: boolean (nullable = true)\n",
      " |    |    |    |-- created_at: long (nullable = true)\n",
      " |    |    |    |-- default_profile: boolean (nullable = true)\n",
      " |    |    |    |-- default_profile_image: boolean (nullable = true)\n",
      " |    |    |    |-- description: string (nullable = true)\n",
      " |    |    |    |-- email: string (nullable = true)\n",
      " |    |    |    |-- follow_request_sent: boolean (nullable = true)\n",
      " |    |    |    |-- followers_count: long (nullable = true)\n",
      " |    |    |    |-- friends_count: long (nullable = true)\n",
      " |    |    |    |-- geo_enabled: boolean (nullable = true)\n",
      " |    |    |    |-- has_extended_profile: boolean (nullable = true)\n",
      " |    |    |    |-- id: long (nullable = true)\n",
      " |    |    |    |-- id_str: string (nullable = true)\n",
      " |    |    |    |-- is_translation_enabled: boolean (nullable = true)\n",
      " |    |    |    |-- is_translator: boolean (nullable = true)\n",
      " |    |    |    |-- lang: string (nullable = true)\n",
      " |    |    |    |-- listed_count: long (nullable = true)\n",
      " |    |    |    |-- location: string (nullable = true)\n",
      " |    |    |    |-- muting: boolean (nullable = true)\n",
      " |    |    |    |-- name: string (nullable = true)\n",
      " |    |    |    |-- notifications: boolean (nullable = true)\n",
      " |    |    |    |-- protected: boolean (nullable = true)\n",
      " |    |    |    |-- screen_name: string (nullable = true)\n",
      " |    |    |    |-- show_all_inline_media: boolean (nullable = true)\n",
      " |    |    |    |-- status: string (nullable = true)\n",
      " |    |    |    |-- statuses_count: long (nullable = true)\n",
      " |    |    |    |-- time_zone: string (nullable = true)\n",
      " |    |    |    |-- translator_type: string (nullable = true)\n",
      " |    |    |    |-- url: string (nullable = true)\n",
      " |    |    |    |-- utc_offset: string (nullable = true)\n",
      " |    |    |    |-- verified: boolean (nullable = true)\n",
      " |    |    |-- withheld_copyright: boolean (nullable = true)\n",
      " |    |    |-- withheld_in_countries: array (nullable = true)\n",
      " |    |    |    |-- element: string (containsNull = true)\n",
      " |    |    |-- withheld_scope: string (nullable = true)\n",
      " |    |-- quoted_status_id: long (nullable = true)\n",
      " |    |-- quoted_status_id_str: string (nullable = true)\n",
      " |    |-- retweet_count: long (nullable = true)\n",
      " |    |-- retweeted: boolean (nullable = true)\n",
      " |    |-- retweeted_status: string (nullable = true)\n",
      " |    |-- scopes: array (nullable = true)\n",
      " |    |    |-- element: string (containsNull = true)\n",
      " |    |-- source: string (nullable = true)\n",
      " |    |-- text: string (nullable = true)\n",
      " |    |-- truncated: boolean (nullable = true)\n",
      " |    |-- user: struct (nullable = true)\n",
      " |    |    |-- blocked_by: boolean (nullable = true)\n",
      " |    |    |-- blocking: boolean (nullable = true)\n",
      " |    |    |-- contributors_enabled: boolean (nullable = true)\n",
      " |    |    |-- created_at: long (nullable = true)\n",
      " |    |    |-- default_profile: boolean (nullable = true)\n",
      " |    |    |-- default_profile_image: boolean (nullable = true)\n",
      " |    |    |-- description: string (nullable = true)\n",
      " |    |    |-- email: string (nullable = true)\n",
      " |    |    |-- follow_request_sent: boolean (nullable = true)\n",
      " |    |    |-- followers_count: long (nullable = true)\n",
      " |    |    |-- friends_count: long (nullable = true)\n",
      " |    |    |-- geo_enabled: boolean (nullable = true)\n",
      " |    |    |-- has_extended_profile: boolean (nullable = true)\n",
      " |    |    |-- id: long (nullable = true)\n",
      " |    |    |-- id_str: string (nullable = true)\n",
      " |    |    |-- is_translation_enabled: boolean (nullable = true)\n",
      " |    |    |-- is_translator: boolean (nullable = true)\n",
      " |    |    |-- lang: string (nullable = true)\n",
      " |    |    |-- listed_count: long (nullable = true)\n",
      " |    |    |-- location: string (nullable = true)\n",
      " |    |    |-- muting: boolean (nullable = true)\n",
      " |    |    |-- name: string (nullable = true)\n",
      " |    |    |-- notifications: boolean (nullable = true)\n",
      " |    |    |-- protected: boolean (nullable = true)\n",
      " |    |    |-- screen_name: string (nullable = true)\n",
      " |    |    |-- show_all_inline_media: boolean (nullable = true)\n",
      " |    |    |-- status: string (nullable = true)\n",
      " |    |    |-- statuses_count: long (nullable = true)\n",
      " |    |    |-- time_zone: string (nullable = true)\n",
      " |    |    |-- translator_type: string (nullable = true)\n",
      " |    |    |-- url: string (nullable = true)\n",
      " |    |    |-- utc_offset: string (nullable = true)\n",
      " |    |    |-- verified: boolean (nullable = true)\n",
      " |    |-- withheld_copyright: boolean (nullable = true)\n",
      " |    |-- withheld_in_countries: array (nullable = true)\n",
      " |    |    |-- element: string (containsNull = true)\n",
      " |    |-- withheld_scope: string (nullable = true)\n",
      " |-- scopes: array (nullable = true)\n",
      " |    |-- element: string (containsNull = true)\n",
      " |-- source: string (nullable = true)\n",
      " |-- text: string (nullable = true)\n",
      " |-- truncated: boolean (nullable = true)\n",
      " |-- user: struct (nullable = true)\n",
      " |    |-- blocked_by: boolean (nullable = true)\n",
      " |    |-- blocking: boolean (nullable = true)\n",
      " |    |-- contributors_enabled: boolean (nullable = true)\n",
      " |    |-- created_at: long (nullable = true)\n",
      " |    |-- default_profile: boolean (nullable = true)\n",
      " |    |-- default_profile_image: boolean (nullable = true)\n",
      " |    |-- description: string (nullable = true)\n",
      " |    |-- email: string (nullable = true)\n",
      " |    |-- follow_request_sent: boolean (nullable = true)\n",
      " |    |-- followers_count: long (nullable = true)\n",
      " |    |-- friends_count: long (nullable = true)\n",
      " |    |-- geo_enabled: boolean (nullable = true)\n",
      " |    |-- has_extended_profile: boolean (nullable = true)\n",
      " |    |-- id: long (nullable = true)\n",
      " |    |-- id_str: string (nullable = true)\n",
      " |    |-- is_translation_enabled: boolean (nullable = true)\n",
      " |    |-- is_translator: boolean (nullable = true)\n",
      " |    |-- lang: string (nullable = true)\n",
      " |    |-- listed_count: long (nullable = true)\n",
      " |    |-- location: string (nullable = true)\n",
      " |    |-- muting: boolean (nullable = true)\n",
      " |    |-- name: string (nullable = true)\n",
      " |    |-- notifications: boolean (nullable = true)\n",
      " |    |-- protected: boolean (nullable = true)\n",
      " |    |-- screen_name: string (nullable = true)\n",
      " |    |-- show_all_inline_media: boolean (nullable = true)\n",
      " |    |-- status: string (nullable = true)\n",
      " |    |-- statuses_count: long (nullable = true)\n",
      " |    |-- time_zone: string (nullable = true)\n",
      " |    |-- translator_type: string (nullable = true)\n",
      " |    |-- url: string (nullable = true)\n",
      " |    |-- utc_offset: string (nullable = true)\n",
      " |    |-- verified: boolean (nullable = true)\n",
      " |-- withheld_copyright: boolean (nullable = true)\n",
      " |-- withheld_in_countries: array (nullable = true)\n",
      " |    |-- element: string (containsNull = true)\n",
      " |-- withheld_scope: string (nullable = true)\n",
      "\n"
     ]
    }
   ],
   "source": [
    "tweets.printSchema()"
   ]
  },
  {
   "cell_type": "markdown",
   "id": "906f9ce1-64cc-48c4-bad4-9f248d7080b1",
   "metadata": {},
   "source": [
    "## Les langues représentées\n",
    "\n",
    "Dans chaque tweet, il y a un champ `lang`, qui indique la langue dans laquelle a été écrit le tweet. La valeur de champ est décrit par la norme BCP47 ([liste des langues](http://www.iana.org/assignments/language-subtag-registry/language-subtag-registry)).\n",
    "\n",
    "Donner la liste des langues utilisées dans les tweets, en les classant de la plus utilisée à la moins utilisée."
   ]
  },
  {
   "cell_type": "code",
   "execution_count": 72,
   "id": "bc573389-6b6d-4ec3-adc1-3189902c0d62",
   "metadata": {
    "tags": []
   },
   "outputs": [
    {
     "data": {
      "text/html": [
       "<div>\n",
       "  <span style=\"float: left;\">showHTML</span>\n",
       "</div>\n"
      ]
     },
     "metadata": {},
     "output_type": "display_data"
    },
    {
     "data": {
      "text/html": [
       "<div class=\"progress\">\n",
       "  <div class=\"progress-bar\" role=\"progressbar\" style=\"background-color: blue; width: 100%; word-wrap: normal; white-space: nowrap; text-align: center; color: white\" aria-valuenow=\"100\" aria-valuemin=\"0\" aria-valuemax=\"100\">\n",
       "    1 / 1\n",
       "  </div>\n",
       "  <div class=\"progress-bar\" role=\"progressbar\" style=\"background-color: red; width: 0%\" aria-valuenow=\"0\" aria-valuemin=\"0\" aria-valuemax=\"100\"></div>\n",
       "</div>\n"
      ]
     },
     "metadata": {},
     "output_type": "display_data"
    },
    {
     "data": {
      "text/html": [
       "<div>\n",
       "  <span style=\"float: left;\">showHTML</span>\n",
       "</div>\n"
      ]
     },
     "metadata": {},
     "output_type": "display_data"
    },
    {
     "data": {
      "text/html": [
       "<div class=\"progress\">\n",
       "  <div class=\"progress-bar\" role=\"progressbar\" style=\"background-color: blue; width: 100%; word-wrap: normal; white-space: nowrap; text-align: center; color: white\" aria-valuenow=\"100\" aria-valuemin=\"0\" aria-valuemax=\"100\">\n",
       "    1 / 1\n",
       "  </div>\n",
       "  <div class=\"progress-bar\" role=\"progressbar\" style=\"background-color: red; width: 0%\" aria-valuenow=\"0\" aria-valuemin=\"0\" aria-valuemax=\"100\"></div>\n",
       "</div>\n"
      ]
     },
     "metadata": {},
     "output_type": "display_data"
    },
    {
     "data": {
      "text/html": [
       "\n",
       "      <table class=\"table\">\n",
       "        <tr>\n",
       "        <th>lang</th><th>count</th>\n",
       "        </tr>\n",
       "        <tr><td>en</td><td>2801</td></tr><tr><td>ja</td><td>117</td></tr><tr><td>pt</td><td>50</td></tr><tr><td>es</td><td>37</td></tr><tr><td>it</td><td>29</td></tr><tr><td>ca</td><td>24</td></tr><tr><td>fr</td><td>23</td></tr><tr><td>fa</td><td>12</td></tr><tr><td>und</td><td>11</td></tr><tr><td>ru</td><td>10</td></tr><tr><td>ar</td><td>8</td></tr><tr><td>in</td><td>8</td></tr><tr><td>pl</td><td>4</td></tr><tr><td>de</td><td>3</td></tr><tr><td>ro</td><td>3</td></tr><tr><td>ko</td><td>2</td></tr><tr><td>el</td><td>2</td></tr><tr><td>sl</td><td>1</td></tr><tr><td>tl</td><td>1</td></tr><tr><td>tr</td><td>1</td></tr>\n",
       "      </table>"
      ]
     },
     "metadata": {},
     "output_type": "display_data"
    },
    {
     "name": "stdout",
     "output_type": "stream",
     "text": [
      "== Physical Plan ==\n",
      "AdaptiveSparkPlan isFinalPlan=false\n",
      "+- Sort [count#5926L DESC NULLS LAST], true, 0\n",
      "   +- Exchange rangepartitioning(count#5926L DESC NULLS LAST, 200), ENSURE_REQUIREMENTS, [plan_id=2833]\n",
      "      +- HashAggregate(keys=[lang#3676], functions=[count(lang#3676)])\n",
      "         +- Exchange hashpartitioning(lang#3676, 200), ENSURE_REQUIREMENTS, [plan_id=2830]\n",
      "            +- HashAggregate(keys=[lang#3676], functions=[partial_count(lang#3676)])\n",
      "               +- Project [lang#3676]\n",
      "                  +- Filter isnull(_corrupt_record#3655)\n",
      "                     +- InMemoryTableScan [_corrupt_record#3655, lang#3676], [isnull(_corrupt_record#3655)]\n",
      "                           +- InMemoryRelation [_corrupt_record#3655, contributors#3656, coordinates#3657, created_at#3658L, current_user_retweet#3659, display_text_range#3660, entities#3661, extended_entities#3662, extended_tweet#3663, favorite_count#3664L, favorited#3665, filter_level#3666, geo#3667, id#3668L, id_str#3669, in_reply_to_screen_name#3670, in_reply_to_status_id#3671L, in_reply_to_status_id_str#3672, in_reply_to_user_id#3673L, in_reply_to_user_id_str#3674, is_quote_status#3675, lang#3676, metadata#3677, place#3678, ... 15 more fields], StorageLevel(disk, memory, deserialized, 1 replicas)\n",
      "                                 +- FileScan json [_corrupt_record#1283,contributors#1284,coordinates#1285,created_at#1286L,current_user_retweet#1287,display_text_range#1288,entities#1289,extended_entities#1290,extended_tweet#1291,favorite_count#1292L,favorited#1293,filter_level#1294,geo#1295,id#1296L,id_str#1297,in_reply_to_screen_name#1298,in_reply_to_status_id#1299L,in_reply_to_status_id_str#1300,in_reply_to_user_id#1301L,in_reply_to_user_id_str#1302,is_quote_status#1303,lang#1304,metadata#1305,place#1306,... 15 more fields] Batched: false, DataFilters: [], Format: JSON, Location: InMemoryFileIndex(1 paths)[file:/home/jovyan/work/02_spark_sql/data/tweets.json.gz], PartitionFilters: [], PushedFilters: [], ReadSchema: struct<_corrupt_record:string,contributors:array<string>,coordinates:string,created_at:bigint,cur...\n",
      "\n",
      "\n"
     ]
    },
    {
     "data": {
      "text/plain": [
       "\u001b[36mresult\u001b[39m: \u001b[32mDataset\u001b[39m[\u001b[32mRow\u001b[39m] = [lang: string, count: bigint]"
      ]
     },
     "execution_count": 72,
     "metadata": {},
     "output_type": "execute_result"
    }
   ],
   "source": [
    "val result =\n",
    "  tweets\n",
    "    .groupBy($\"lang\")\n",
    "    // .count()\n",
    "    .agg(count($\"lang\").as(\"count\"))\n",
    "    .orderBy($\"count\".desc)\n",
    "\n",
    "result.showHTML()\n",
    "result.explain()"
   ]
  },
  {
   "cell_type": "markdown",
   "id": "3e3638b2-0b04-43fe-b80e-266b58fffca9",
   "metadata": {},
   "source": [
    "**Ce qu'il faut voir**\n",
    "\n",
    "La fonction `count` sous deux formes dans le plan d'exécution, dans l'ordre :\n",
    " * `HashAggregate(keys=[lang#29], functions=[partial_count(1)])`\n",
    " * `HashAggregate(keys=[lang#29], functions=[count(1)])`\n",
    "\n",
    "Ce plan montre que Spark va organiser le décompte des lignes en deux phases. Dans une première phase, chaque exécuteur va compter de son côté le nombre de lignes par langue (`partial_count`). Puis, les décomptes partiels sont redistribués selon un _hash_ calculé sur la langue (`Exchange hashpartitioning(lang#3676, 200), ENSURE_REQUIREMENTS, [plan_id=2830]`), afin d'avoir les décomptes partiels d'une même langue au sein du même exécuteur. Le traitement se termine alors par la somme des décomptes partiels par langues (`count`)."
   ]
  },
  {
   "cell_type": "markdown",
   "id": "9f59036f-2e4e-4bb9-a6e0-2eb062499a3b",
   "metadata": {},
   "source": [
    "## Utilisateurs\n",
    "\n",
    "Dans un tweet, un utilisateur est représenté par une sous-structure contenant plusieurs informations, dont l'ID, le nom, le site Web...\n",
    "\n",
    "Donner la liste du _screen_name_ des utilisateurs apparaissant dans les tweets, en les classant de l'utilisateur ayant le plus tweeté à l'utilisateur ayant le moins tweeté.\n",
    "\n",
    "Note : Pour accéder à un champ `b` d'une sous-structure `a`, vous devez utiliser la syntaxe `a.b`."
   ]
  },
  {
   "cell_type": "code",
   "execution_count": 73,
   "id": "e8b9ced3-efe6-4b17-be64-76a4893bed69",
   "metadata": {
    "tags": []
   },
   "outputs": [
    {
     "data": {
      "text/html": [
       "<div>\n",
       "  <span style=\"float: left;\">showHTML</span>\n",
       "</div>\n"
      ]
     },
     "metadata": {},
     "output_type": "display_data"
    },
    {
     "data": {
      "text/html": [
       "<div class=\"progress\">\n",
       "  <div class=\"progress-bar\" role=\"progressbar\" style=\"background-color: blue; width: 100%; word-wrap: normal; white-space: nowrap; text-align: center; color: white\" aria-valuenow=\"100\" aria-valuemin=\"0\" aria-valuemax=\"100\">\n",
       "    1 / 1\n",
       "  </div>\n",
       "  <div class=\"progress-bar\" role=\"progressbar\" style=\"background-color: red; width: 0%\" aria-valuenow=\"0\" aria-valuemin=\"0\" aria-valuemax=\"100\"></div>\n",
       "</div>\n"
      ]
     },
     "metadata": {},
     "output_type": "display_data"
    },
    {
     "data": {
      "text/html": [
       "<div>\n",
       "  <span style=\"float: left;\">showHTML</span>\n",
       "</div>\n"
      ]
     },
     "metadata": {},
     "output_type": "display_data"
    },
    {
     "data": {
      "text/html": [
       "<div class=\"progress\">\n",
       "  <div class=\"progress-bar\" role=\"progressbar\" style=\"background-color: blue; width: 100%; word-wrap: normal; white-space: nowrap; text-align: center; color: white\" aria-valuenow=\"100\" aria-valuemin=\"0\" aria-valuemax=\"100\">\n",
       "    1 / 1\n",
       "  </div>\n",
       "  <div class=\"progress-bar\" role=\"progressbar\" style=\"background-color: red; width: 0%\" aria-valuenow=\"0\" aria-valuemin=\"0\" aria-valuemax=\"100\"></div>\n",
       "</div>\n"
      ]
     },
     "metadata": {},
     "output_type": "display_data"
    },
    {
     "data": {
      "text/html": [
       "\n",
       "      <table class=\"table\">\n",
       "        <tr>\n",
       "        <th>screen_name</th><th>count</th>\n",
       "        </tr>\n",
       "        <tr><td>austin_castel</td><td>53</td></tr><tr><td>opensource_orgs</td><td>44</td></tr><tr><td>ServerlessFan</td><td>42</td></tr><tr><td>iPythonistaBot</td><td>38</td></tr><tr><td>DeveloperBot_v1</td><td>36</td></tr><tr><td>bigdataconf</td><td>32</td></tr><tr><td>DjangoBot_</td><td>31</td></tr><tr><td>CodeWithTwitchi</td><td>26</td></tr><tr><td>hubofml</td><td>24</td></tr><tr><td>PythonExpertBot</td><td>23</td></tr><tr><td>py_data_sci</td><td>19</td></tr><tr><td>ShyBOT7</td><td>17</td></tr><tr><td>chidambara09</td><td>16</td></tr><tr><td>SATYAJIT1910</td><td>16</td></tr><tr><td>bot_tensorflow</td><td>15</td></tr><tr><td>botfordev</td><td>15</td></tr><tr><td>eagerbeavertech</td><td>14</td></tr><tr><td>tombee74</td><td>13</td></tr><tr><td>elizabot9</td><td>12</td></tr><tr><td>cont_learn</td><td>11</td></tr>\n",
       "      </table>"
      ]
     },
     "metadata": {},
     "output_type": "display_data"
    },
    {
     "data": {
      "text/plain": [
       "\u001b[36mresult\u001b[39m: \u001b[32mDataset\u001b[39m[\u001b[32mRow\u001b[39m] = [screen_name: string, count: bigint]"
      ]
     },
     "execution_count": 73,
     "metadata": {},
     "output_type": "execute_result"
    }
   ],
   "source": [
    "val result =\n",
    "  tweets\n",
    "    .groupBy($\"user.screen_name\")\n",
    "    .count()\n",
    "    .orderBy($\"count\".desc)\n",
    "\n",
    "result.showHTML()"
   ]
  },
  {
   "cell_type": "markdown",
   "id": "3a10c8de-b0c9-4420-a71e-fc6acb29a622",
   "metadata": {},
   "source": [
    "## Hashtags\n",
    "\n",
    "Les tweets peuvent contenir des hashtags, qui sont des mots apparaissant dans le texte du tweet précédé d'un _hash_ (`#`).\n",
    "\n",
    "Dans la structure du tweet, les hashtags apparaissent dans le champ `entities`, qui est une structure. Cette structure contient le champ `hashtags`. Ce champ `hashtags` est un _array_ (ou liste). Celui-ci un champ `text`.\n",
    "\n",
    "Voici un extrait du schéma qui nous intéresse :\n",
    "\n",
    "```\n",
    " |-- entities: struct (nullable = true)\n",
    " |    |-- description: string (nullable = true)\n",
    " |    |-- hashtags: array (nullable = true)\n",
    " |    |    |-- element: struct (containsNull = true)\n",
    " |    |    |    |-- indices: array (nullable = true)\n",
    " |    |    |    |    |-- element: long (containsNull = true)\n",
    " |    |    |    |-- text: string (nullable = true)\n",
    "```\n",
    "\n",
    "Nous voulons la liste des hashtags les plus utilisés.\n",
    "\n",
    "Il est possible de vérifier si un tweet contient des hashtags. Pour cela, vous pouvez utiliser l'opération `.where()` et utiliser la fonction `size()` sur le champ `entities.hashtags`.\n",
    "\n",
    "Pour décomposer une liste, vous pouvez utiliser la fonction `explode` sur le champ `entities.hashtags` dans un `.select()`. Cette fonction crée une nouvelle pour chaque élément contenu dans la liste."
   ]
  },
  {
   "cell_type": "code",
   "execution_count": 78,
   "id": "42a004e8-4e02-47c6-a8d8-e8dfd46de63b",
   "metadata": {
    "tags": []
   },
   "outputs": [
    {
     "data": {
      "text/html": [
       "<div>\n",
       "  <span style=\"float: left;\">showHTML</span>\n",
       "</div>\n"
      ]
     },
     "metadata": {},
     "output_type": "display_data"
    },
    {
     "data": {
      "text/html": [
       "<div class=\"progress\">\n",
       "  <div class=\"progress-bar\" role=\"progressbar\" style=\"background-color: blue; width: 100%; word-wrap: normal; white-space: nowrap; text-align: center; color: white\" aria-valuenow=\"100\" aria-valuemin=\"0\" aria-valuemax=\"100\">\n",
       "    1 / 1\n",
       "  </div>\n",
       "  <div class=\"progress-bar\" role=\"progressbar\" style=\"background-color: red; width: 0%\" aria-valuenow=\"0\" aria-valuemin=\"0\" aria-valuemax=\"100\"></div>\n",
       "</div>\n"
      ]
     },
     "metadata": {},
     "output_type": "display_data"
    },
    {
     "data": {
      "text/html": [
       "<div>\n",
       "  <span style=\"float: left;\">showHTML</span>\n",
       "</div>\n"
      ]
     },
     "metadata": {},
     "output_type": "display_data"
    },
    {
     "data": {
      "text/html": [
       "<div class=\"progress\">\n",
       "  <div class=\"progress-bar\" role=\"progressbar\" style=\"background-color: blue; width: 100%; word-wrap: normal; white-space: nowrap; text-align: center; color: white\" aria-valuenow=\"100\" aria-valuemin=\"0\" aria-valuemax=\"100\">\n",
       "    1 / 1\n",
       "  </div>\n",
       "  <div class=\"progress-bar\" role=\"progressbar\" style=\"background-color: red; width: 0%\" aria-valuenow=\"0\" aria-valuemin=\"0\" aria-valuemax=\"100\"></div>\n",
       "</div>\n"
      ]
     },
     "metadata": {},
     "output_type": "display_data"
    },
    {
     "data": {
      "text/html": [
       "\n",
       "      <table class=\"table\">\n",
       "        <tr>\n",
       "        <th>text</th><th>count</th>\n",
       "        </tr>\n",
       "        <tr><td>NoSQL</td><td>303</td></tr><tr><td>DataScience</td><td>290</td></tr><tr><td>MachineLearning</td><td>189</td></tr><tr><td>GridDB</td><td>173</td></tr><tr><td>IoT</td><td>150</td></tr><tr><td>BigData</td><td>138</td></tr><tr><td>AI</td><td>116</td></tr><tr><td>geospatial</td><td>109</td></tr><tr><td>TimeSeries</td><td>109</td></tr><tr><td>NYC</td><td>109</td></tr><tr><td>SQL</td><td>105</td></tr><tr><td>Cassandra</td><td>78</td></tr><tr><td>Hadoop</td><td>78</td></tr><tr><td>database</td><td>53</td></tr><tr><td>kafka</td><td>48</td></tr><tr><td>Bigdata</td><td>48</td></tr><tr><td>dotnet</td><td>48</td></tr><tr><td>MongoDB</td><td>45</td></tr><tr><td>PHP</td><td>44</td></tr><tr><td>Csharp</td><td>44</td></tr>\n",
       "      </table>"
      ]
     },
     "metadata": {},
     "output_type": "display_data"
    },
    {
     "name": "stdout",
     "output_type": "stream",
     "text": [
      "== Physical Plan ==\n",
      "AdaptiveSparkPlan isFinalPlan=false\n",
      "+- Sort [count#11694L DESC NULLS LAST], true, 0\n",
      "   +- Exchange rangepartitioning(count#11694L DESC NULLS LAST, 200), ENSURE_REQUIREMENTS, [plan_id=3140]\n",
      "      +- HashAggregate(keys=[text#11690], functions=[count(1)])\n",
      "         +- Exchange hashpartitioning(text#11690, 200), ENSURE_REQUIREMENTS, [plan_id=3137]\n",
      "            +- HashAggregate(keys=[text#11690], functions=[partial_count(1)])\n",
      "               +- Project [hashtag#11688 AS text#11690]\n",
      "                  +- Generate explode(_extract_text#13074), false, [hashtag#11688]\n",
      "                     +- Project [entities#3661.hashtags.text AS _extract_text#13074]\n",
      "                        +- Filter (((isnull(_corrupt_record#3655) AND (size(entities#3661.hashtags, true) > 0)) AND (size(entities#3661.hashtags.text, true) > 0)) AND isnotnull(entities#3661.hashtags.text))\n",
      "                           +- InMemoryTableScan [_corrupt_record#3655, entities#3661], [isnull(_corrupt_record#3655), (size(entities#3661.hashtags, true) > 0), (size(entities#3661.hashtags.text, true) > 0), isnotnull(entities#3661.hashtags.text)]\n",
      "                                 +- InMemoryRelation [_corrupt_record#3655, contributors#3656, coordinates#3657, created_at#3658L, current_user_retweet#3659, display_text_range#3660, entities#3661, extended_entities#3662, extended_tweet#3663, favorite_count#3664L, favorited#3665, filter_level#3666, geo#3667, id#3668L, id_str#3669, in_reply_to_screen_name#3670, in_reply_to_status_id#3671L, in_reply_to_status_id_str#3672, in_reply_to_user_id#3673L, in_reply_to_user_id_str#3674, is_quote_status#3675, lang#3676, metadata#3677, place#3678, ... 15 more fields], StorageLevel(disk, memory, deserialized, 1 replicas)\n",
      "                                       +- FileScan json [_corrupt_record#1283,contributors#1284,coordinates#1285,created_at#1286L,current_user_retweet#1287,display_text_range#1288,entities#1289,extended_entities#1290,extended_tweet#1291,favorite_count#1292L,favorited#1293,filter_level#1294,geo#1295,id#1296L,id_str#1297,in_reply_to_screen_name#1298,in_reply_to_status_id#1299L,in_reply_to_status_id_str#1300,in_reply_to_user_id#1301L,in_reply_to_user_id_str#1302,is_quote_status#1303,lang#1304,metadata#1305,place#1306,... 15 more fields] Batched: false, DataFilters: [], Format: JSON, Location: InMemoryFileIndex(1 paths)[file:/home/jovyan/work/02_spark_sql/data/tweets.json.gz], PartitionFilters: [], PushedFilters: [], ReadSchema: struct<_corrupt_record:string,contributors:array<string>,coordinates:string,created_at:bigint,cur...\n",
      "\n",
      "\n"
     ]
    },
    {
     "data": {
      "text/plain": [
       "\u001b[36mresult\u001b[39m: \u001b[32mDataset\u001b[39m[\u001b[32mRow\u001b[39m] = [text: string, count: bigint]"
      ]
     },
     "execution_count": 78,
     "metadata": {},
     "output_type": "execute_result"
    }
   ],
   "source": [
    "val result = \n",
    "  tweets\n",
    "    .where(size($\"entities.hashtags\") > 0)\n",
    "    .select(explode($\"entities.hashtags\").as(\"hashtag\"))\n",
    "    .select($\"hashtag.text\")\n",
    "    .groupBy($\"text\")\n",
    "    .count()\n",
    "    .orderBy($\"count\".desc)\n",
    "\n",
    "result.showHTML()\n",
    "result.explain()"
   ]
  },
  {
   "cell_type": "markdown",
   "id": "7ea93af6-f022-4b1c-b5d2-09625c572525",
   "metadata": {},
   "source": [
    "Moyenne du nombre de tweets envoyés par tranche horaire."
   ]
  },
  {
   "cell_type": "code",
   "execution_count": 41,
   "id": "c2e85252-a44f-4d2f-9dd6-1266fc939484",
   "metadata": {
    "tags": []
   },
   "outputs": [
    {
     "data": {
      "text/html": [
       "<div>\n",
       "  <span style=\"float: left;\">showHTML</span>\n",
       "</div>\n"
      ]
     },
     "metadata": {},
     "output_type": "display_data"
    },
    {
     "data": {
      "text/html": [
       "<div class=\"progress\">\n",
       "  <div class=\"progress-bar\" role=\"progressbar\" style=\"background-color: blue; width: 100%; word-wrap: normal; white-space: nowrap; text-align: center; color: white\" aria-valuenow=\"100\" aria-valuemin=\"0\" aria-valuemax=\"100\">\n",
       "    1 / 1\n",
       "  </div>\n",
       "  <div class=\"progress-bar\" role=\"progressbar\" style=\"background-color: red; width: 0%\" aria-valuenow=\"0\" aria-valuemin=\"0\" aria-valuemax=\"100\"></div>\n",
       "</div>\n"
      ]
     },
     "metadata": {},
     "output_type": "display_data"
    },
    {
     "data": {
      "text/html": [
       "<div>\n",
       "  <span style=\"float: left;\">showHTML</span>\n",
       "</div>\n"
      ]
     },
     "metadata": {},
     "output_type": "display_data"
    },
    {
     "data": {
      "text/html": [
       "<div class=\"progress\">\n",
       "  <div class=\"progress-bar\" role=\"progressbar\" style=\"background-color: blue; width: 100%; word-wrap: normal; white-space: nowrap; text-align: center; color: white\" aria-valuenow=\"100\" aria-valuemin=\"0\" aria-valuemax=\"100\">\n",
       "    1 / 1\n",
       "  </div>\n",
       "  <div class=\"progress-bar\" role=\"progressbar\" style=\"background-color: red; width: 0%\" aria-valuenow=\"0\" aria-valuemin=\"0\" aria-valuemax=\"100\"></div>\n",
       "</div>\n"
      ]
     },
     "metadata": {},
     "output_type": "display_data"
    },
    {
     "data": {
      "text/html": [
       "<div>\n",
       "  <span style=\"float: left;\">showHTML</span>\n",
       "</div>\n"
      ]
     },
     "metadata": {},
     "output_type": "display_data"
    },
    {
     "data": {
      "text/html": [
       "<div class=\"progress\">\n",
       "  <div class=\"progress-bar\" role=\"progressbar\" style=\"background-color: blue; width: 100%; word-wrap: normal; white-space: nowrap; text-align: center; color: white\" aria-valuenow=\"100\" aria-valuemin=\"0\" aria-valuemax=\"100\">\n",
       "    1 / 1\n",
       "  </div>\n",
       "  <div class=\"progress-bar\" role=\"progressbar\" style=\"background-color: red; width: 0%\" aria-valuenow=\"0\" aria-valuemin=\"0\" aria-valuemax=\"100\"></div>\n",
       "</div>\n"
      ]
     },
     "metadata": {},
     "output_type": "display_data"
    },
    {
     "data": {
      "text/html": [
       "\n",
       "      <table class=\"table\">\n",
       "        <tr>\n",
       "        <th>hour</th><th>avg</th>\n",
       "        </tr>\n",
       "        <tr><td>23</td><td>9.5</td></tr><tr><td>22</td><td>7.444444444444445</td></tr><tr><td>21</td><td>11.666666666666666</td></tr><tr><td>20</td><td>20.555555555555557</td></tr><tr><td>19</td><td>18.88888888888889</td></tr><tr><td>18</td><td>22.77777777777778</td></tr><tr><td>17</td><td>23.11111111111111</td></tr><tr><td>16</td><td>25.88888888888889</td></tr><tr><td>15</td><td>15.777777777777779</td></tr><tr><td>14</td><td>15.444444444444445</td></tr><tr><td>13</td><td>16.75</td></tr><tr><td>12</td><td>13.375</td></tr><tr><td>11</td><td>12.125</td></tr><tr><td>10</td><td>15.875</td></tr><tr><td>9</td><td>11.0</td></tr><tr><td>8</td><td>14.0</td></tr><tr><td>7</td><td>16.77777777777778</td></tr><tr><td>6</td><td>17.333333333333332</td></tr><tr><td>5</td><td>13.0</td></tr><tr><td>4</td><td>13.333333333333334</td></tr><tr><td>3</td><td>12.666666666666666</td></tr><tr><td>2</td><td>10.444444444444445</td></tr><tr><td>1</td><td>10.333333333333334</td></tr><tr><td>0</td><td>9.333333333333334</td></tr>\n",
       "      </table>"
      ]
     },
     "metadata": {},
     "output_type": "display_data"
    },
    {
     "name": "stdout",
     "output_type": "stream",
     "text": [
      "== Physical Plan ==\n",
      "AdaptiveSparkPlan isFinalPlan=false\n",
      "+- Sort [hour#726 DESC NULLS LAST], true, 0\n",
      "   +- Exchange rangepartitioning(hour#726 DESC NULLS LAST, 200), ENSURE_REQUIREMENTS, [plan_id=1742]\n",
      "      +- HashAggregate(keys=[_groupingexpression#752], functions=[avg(count#723L)])\n",
      "         +- Exchange hashpartitioning(_groupingexpression#752, 200), ENSURE_REQUIREMENTS, [plan_id=1739]\n",
      "            +- HashAggregate(keys=[_groupingexpression#752], functions=[partial_avg(count#723L)])\n",
      "               +- HashAggregate(keys=[date_hour#717], functions=[count(1)])\n",
      "                  +- Exchange hashpartitioning(date_hour#717, 200), ENSURE_REQUIREMENTS, [plan_id=1735]\n",
      "                     +- HashAggregate(keys=[date_hour#717], functions=[partial_count(1)])\n",
      "                        +- Project [date_trunc(hour, cast((cast(created_at#11L as double) / 1000.0) as timestamp), Some(GMT)) AS date_hour#717]\n",
      "                           +- Filter isnotnull(created_at#11L)\n",
      "                              +- FileScan json [created_at#11L] Batched: false, DataFilters: [isnotnull(created_at#11L)], Format: JSON, Location: InMemoryFileIndex(1 paths)[file:/home/jovyan/work/02_spark_sql/data/tweets.json.gz], PartitionFilters: [], PushedFilters: [IsNotNull(created_at)], ReadSchema: struct<created_at:bigint>\n",
      "\n",
      "\n"
     ]
    },
    {
     "data": {
      "text/plain": [
       "\u001b[36mresult\u001b[39m: \u001b[32mDataset\u001b[39m[\u001b[32mRow\u001b[39m] = [hour: int, avg: double]"
      ]
     },
     "execution_count": 41,
     "metadata": {},
     "output_type": "execute_result"
    }
   ],
   "source": [
    "val result = df\n",
    "  .where($\"created_at\".isNotNull)\n",
    "  .select($\"created_at\", date_trunc(\"hour\", to_timestamp($\"created_at\" / 1000)).as(\"date_hour\"))\n",
    "  .groupBy($\"date_hour\")\n",
    "  .count()\n",
    "  .groupBy(hour($\"date_hour\").as(\"hour\"))\n",
    "  .agg(avg($\"count\").as(\"avg\"))\n",
    "  .orderBy($\"hour\".desc)\n",
    "\n",
    "result.showHTML(limit=24,truncate=40)\n",
    "result.explain()"
   ]
  },
  {
   "cell_type": "code",
   "execution_count": 50,
   "id": "7876a61c-1d68-4eeb-9023-4dcb5a99da78",
   "metadata": {
    "tags": []
   },
   "outputs": [
    {
     "data": {
      "text/html": [
       "<div>\n",
       "  <span style=\"float: left;\">showHTML</span>\n",
       "</div>\n"
      ]
     },
     "metadata": {},
     "output_type": "display_data"
    },
    {
     "data": {
      "text/html": [
       "<div class=\"progress\">\n",
       "  <div class=\"progress-bar\" role=\"progressbar\" style=\"background-color: blue; width: 100%; word-wrap: normal; white-space: nowrap; text-align: center; color: white\" aria-valuenow=\"100\" aria-valuemin=\"0\" aria-valuemax=\"100\">\n",
       "    1 / 1\n",
       "  </div>\n",
       "  <div class=\"progress-bar\" role=\"progressbar\" style=\"background-color: red; width: 0%\" aria-valuenow=\"0\" aria-valuemin=\"0\" aria-valuemax=\"100\"></div>\n",
       "</div>\n"
      ]
     },
     "metadata": {},
     "output_type": "display_data"
    },
    {
     "data": {
      "text/html": [
       "\n",
       "      <table class=\"table\">\n",
       "        <tr>\n",
       "        <th>created_at</th><th>hour</th>\n",
       "        </tr>\n",
       "        <tr><td>1632390898000</td><td>9</td></tr><tr><td>1632390146000</td><td>9</td></tr><tr><td>1632389583000</td><td>9</td></tr><tr><td>1632389234000</td><td>9</td></tr><tr><td>1632388896000</td><td>9</td></tr><tr><td>1632388186000</td><td>9</td></tr><tr><td>1632387911000</td><td>9</td></tr><tr><td>1632387775000</td><td>9</td></tr><tr><td>1632387762000</td><td>9</td></tr><tr><td>1632387602000</td><td>9</td></tr>\n",
       "      </table>"
      ]
     },
     "metadata": {},
     "output_type": "display_data"
    },
    {
     "name": "stdout",
     "output_type": "stream",
     "text": [
      "== Physical Plan ==\n",
      "*(1) Project [created_at#11L, hour(cast((cast(created_at#11L as double) / 1000.0) as timestamp), Some(GMT)) AS hour#840]\n",
      "+- *(1) Filter isnotnull(created_at#11L)\n",
      "   +- FileScan json [created_at#11L] Batched: false, DataFilters: [isnotnull(created_at#11L)], Format: JSON, Location: InMemoryFileIndex(1 paths)[file:/home/jovyan/work/02_spark_sql/data/tweets.json.gz], PartitionFilters: [], PushedFilters: [IsNotNull(created_at)], ReadSchema: struct<created_at:bigint>\n",
      "\n",
      "\n"
     ]
    },
    {
     "data": {
      "text/plain": [
       "\u001b[36mresult\u001b[39m: \u001b[32mDataFrame\u001b[39m = [created_at: bigint, hour: int]"
      ]
     },
     "execution_count": 50,
     "metadata": {},
     "output_type": "execute_result"
    }
   ],
   "source": [
    "val result = df\n",
    "  .where($\"created_at\".isNotNull)\n",
    "  .select($\"created_at\", hour(to_timestamp($\"created_at\" / 1000)).as(\"hour\"))\n",
    "\n",
    "result.showHTML(limit=10, truncate=40)\n",
    "result.explain()"
   ]
  },
  {
   "cell_type": "markdown",
   "id": "62474a65-eaa8-41fe-869f-768bc2777158",
   "metadata": {},
   "source": [
    "## User-Defined Function (UDF)\n"
   ]
  },
  {
   "cell_type": "code",
   "execution_count": 51,
   "id": "c996a0ba-c1ae-4f80-b051-8aeaabc29b0b",
   "metadata": {
    "tags": []
   },
   "outputs": [
    {
     "data": {
      "text/html": [
       "<div>\n",
       "  <span style=\"float: left;\">showHTML</span>\n",
       "</div>\n"
      ]
     },
     "metadata": {},
     "output_type": "display_data"
    },
    {
     "data": {
      "text/html": [
       "<div class=\"progress\">\n",
       "  <div class=\"progress-bar\" role=\"progressbar\" style=\"background-color: blue; width: 100%; word-wrap: normal; white-space: nowrap; text-align: center; color: white\" aria-valuenow=\"100\" aria-valuemin=\"0\" aria-valuemax=\"100\">\n",
       "    1 / 1\n",
       "  </div>\n",
       "  <div class=\"progress-bar\" role=\"progressbar\" style=\"background-color: red; width: 0%\" aria-valuenow=\"0\" aria-valuemin=\"0\" aria-valuemax=\"100\"></div>\n",
       "</div>\n"
      ]
     },
     "metadata": {},
     "output_type": "display_data"
    },
    {
     "data": {
      "text/html": [
       "\n",
       "      <table class=\"table\">\n",
       "        <tr>\n",
       "        <th>created_at</th><th>hour</th>\n",
       "        </tr>\n",
       "        <tr><td>1632390898000</td><td>9</td></tr><tr><td>1632390146000</td><td>9</td></tr><tr><td>1632389583000</td><td>9</td></tr><tr><td>1632389234000</td><td>9</td></tr><tr><td>1632388896000</td><td>9</td></tr><tr><td>1632388186000</td><td>9</td></tr><tr><td>1632387911000</td><td>9</td></tr><tr><td>1632387775000</td><td>9</td></tr><tr><td>1632387762000</td><td>9</td></tr><tr><td>1632387602000</td><td>9</td></tr>\n",
       "      </table>"
      ]
     },
     "metadata": {},
     "output_type": "display_data"
    },
    {
     "name": "stdout",
     "output_type": "stream",
     "text": [
      "== Physical Plan ==\n",
      "*(1) Project [created_at#11L, if (isnull(created_at#11L)) null else hourOfEpochMilli(knownnotnull(created_at#11L)) AS hour#851]\n",
      "+- *(1) Filter isnotnull(created_at#11L)\n",
      "   +- FileScan json [created_at#11L] Batched: false, DataFilters: [isnotnull(created_at#11L)], Format: JSON, Location: InMemoryFileIndex(1 paths)[file:/home/jovyan/work/02_spark_sql/data/tweets.json.gz], PartitionFilters: [], PushedFilters: [IsNotNull(created_at)], ReadSchema: struct<created_at:bigint>\n",
      "\n",
      "\n"
     ]
    },
    {
     "data": {
      "text/plain": [
       "\u001b[32mimport \u001b[39m\u001b[36mjava.time._\n",
       "\n",
       "\u001b[39m\n",
       "defined \u001b[32mfunction\u001b[39m \u001b[36mhourOfEpochMilli\u001b[39m\n",
       "\u001b[36mhourOfEpochMilli_udf\u001b[39m: \u001b[32mexpressions\u001b[39m.\u001b[32mUserDefinedFunction\u001b[39m = \u001b[33mSparkUserDefinedFunction\u001b[39m(\n",
       "  f = ammonite.$sess.cmd50$Helper$$Lambda$6559/1533161759@5717a94b,\n",
       "  dataType = IntegerType,\n",
       "  inputEncoders = \u001b[33mList\u001b[39m(\n",
       "    \u001b[33mSome\u001b[39m(\n",
       "      value = \u001b[33mExpressionEncoder\u001b[39m(\n",
       "        objSerializer = \u001b[33mBoundReference\u001b[39m(\n",
       "          ordinal = \u001b[32m0\u001b[39m,\n",
       "          dataType = LongType,\n",
       "          nullable = \u001b[32mfalse\u001b[39m\n",
       "        ),\n",
       "        objDeserializer = \u001b[33mAssertNotNull\u001b[39m(\n",
       "          child = \u001b[33mUpCast\u001b[39m(\n",
       "            child = \u001b[33mGetColumnByOrdinal\u001b[39m(ordinal = \u001b[32m0\u001b[39m, dataType = LongType),\n",
       "            target = LongType,\n",
       "            walkedTypePath = \u001b[33mList\u001b[39m(\u001b[32m\"- root class: \\\"scala.Long\\\"\"\u001b[39m)\n",
       "          ),\n",
       "          walkedTypePath = \u001b[33mList\u001b[39m(\u001b[32m\"- root class: \\\"scala.Long\\\"\"\u001b[39m)\n",
       "        ),\n",
       "        clsTag = Long\n",
       "      )\n",
       "    )\n",
       "  ),\n",
       "  outputEncoder = \u001b[33mSome\u001b[39m(\n",
       "    value = \u001b[33mExpressionEncoder\u001b[39m(\n",
       "      objSerializer = \u001b[33mBoundReference\u001b[39m(\n",
       "        ordinal = \u001b[32m0\u001b[39m,\n",
       "        dataType = IntegerType,\n",
       "        nullable = \u001b[32mfalse\u001b[39m\n",
       "      ),\n",
       "      objDeserializer = \u001b[33mAssertNotNull\u001b[39m(\n",
       "        child = \u001b[33mUpCast\u001b[39m(\n",
       "          child = \u001b[33mGetColumnByOrdinal\u001b[39m(ordinal = \u001b[32m0\u001b[39m, dataType = IntegerType),\n",
       "          target = IntegerType,\n",
       "          walkedTypePath = \u001b[33mList\u001b[39m(\u001b[32m\"- root class: \\\"scala.Int\\\"\"\u001b[39m)\n",
       "        ),\n",
       "        walkedTypePath = \u001b[33mList\u001b[39m(\u001b[32m\"- root class: \\\"scala.Int\\\"\"\u001b[39m)\n",
       "      ),\n",
       "      clsTag = Int\n",
       "...\n",
       "\u001b[36mresult\u001b[39m: \u001b[32mDataFrame\u001b[39m = [created_at: bigint, hour: int]"
      ]
     },
     "execution_count": 51,
     "metadata": {},
     "output_type": "execute_result"
    }
   ],
   "source": [
    "import java.time._\n",
    "\n",
    "def hourOfEpochMilli(epochMilli: Long): Int = {\n",
    "  val instant = Instant.ofEpochMilli(epochMilli)\n",
    "  val dateTime = LocalDateTime.ofInstant(instant, ZoneOffset.UTC)\n",
    "  dateTime.getHour()\n",
    "}\n",
    "\n",
    "val hourOfEpochMilli_udf = udf[Int, Long](hourOfEpochMilli).withName(\"hourOfEpochMilli\")\n",
    "\n",
    "val result = df\n",
    "  .where($\"created_at\".isNotNull)\n",
    "  .select($\"created_at\", hourOfEpochMilli_udf($\"created_at\").as(\"hour\"))\n",
    "\n",
    "result.showHTML(limit=10, truncate=40)\n",
    "result.explain()"
   ]
  },
  {
   "cell_type": "code",
   "execution_count": 60,
   "id": "422b7c1b-b685-4f47-a8ee-a4640f6a8985",
   "metadata": {
    "tags": []
   },
   "outputs": [
    {
     "data": {
      "text/html": [
       "<div>\n",
       "  <span style=\"float: left;\">first at cmd59.sc:8</span>\n",
       "</div>\n"
      ]
     },
     "metadata": {},
     "output_type": "display_data"
    },
    {
     "data": {
      "text/html": [
       "<div class=\"progress\">\n",
       "  <div class=\"progress-bar\" role=\"progressbar\" style=\"background-color: blue; width: 100%; word-wrap: normal; white-space: nowrap; text-align: center; color: white\" aria-valuenow=\"100\" aria-valuemin=\"0\" aria-valuemax=\"100\">\n",
       "    1 / 1\n",
       "  </div>\n",
       "  <div class=\"progress-bar\" role=\"progressbar\" style=\"background-color: red; width: 0%\" aria-valuenow=\"0\" aria-valuemin=\"0\" aria-valuemax=\"100\"></div>\n",
       "</div>\n"
      ]
     },
     "metadata": {},
     "output_type": "display_data"
    },
    {
     "data": {
      "text/html": [
       "<div>\n",
       "  <span style=\"float: left;\">first at cmd59.sc:8</span>\n",
       "</div>\n"
      ]
     },
     "metadata": {},
     "output_type": "display_data"
    },
    {
     "data": {
      "text/html": [
       "<div class=\"progress\">\n",
       "  <div class=\"progress-bar\" role=\"progressbar\" style=\"background-color: blue; width: 100%; word-wrap: normal; white-space: nowrap; text-align: center; color: white\" aria-valuenow=\"100\" aria-valuemin=\"0\" aria-valuemax=\"100\">\n",
       "    1 / 1\n",
       "  </div>\n",
       "  <div class=\"progress-bar\" role=\"progressbar\" style=\"background-color: red; width: 0%\" aria-valuenow=\"0\" aria-valuemin=\"0\" aria-valuemax=\"100\"></div>\n",
       "</div>\n"
      ]
     },
     "metadata": {},
     "output_type": "display_data"
    },
    {
     "name": "stdout",
     "output_type": "stream",
     "text": [
      "NoSQL\n"
     ]
    },
    {
     "data": {
      "text/plain": [
       "\u001b[36mresult\u001b[39m: \u001b[32mAny\u001b[39m = \u001b[32m\"NoSQL\"\u001b[39m"
      ]
     },
     "execution_count": 60,
     "metadata": {},
     "output_type": "execute_result"
    }
   ],
   "source": [
    "val hashtag = df\n",
    "  .where(size($\"entities.hashtags\") > 0)\n",
    "  .select(explode($\"entities.hashtags\").as(\"hashtag\"))\n",
    "  .select($\"hashtag.text\")\n",
    "  .groupBy($\"text\")\n",
    "  .count()\n",
    "  .orderBy($\"count\".desc)\n",
    "  .select($\"text\")\n",
    "  .first()(0)\n",
    "\n",
    "println(hashtag)\n",
    "//result.printSchema\n",
    "//result.showHTML()"
   ]
  },
  {
   "cell_type": "code",
   "execution_count": 53,
   "id": "23fb2687-280b-4e4c-898c-97ecfc551d28",
   "metadata": {
    "tags": []
   },
   "outputs": [
    {
     "data": {
      "text/html": [
       "<div>\n",
       "  <span style=\"float: left;\">showHTML</span>\n",
       "</div>\n"
      ]
     },
     "metadata": {},
     "output_type": "display_data"
    },
    {
     "data": {
      "text/html": [
       "<div class=\"progress\">\n",
       "  <div class=\"progress-bar\" role=\"progressbar\" style=\"background-color: blue; width: 100%; word-wrap: normal; white-space: nowrap; text-align: center; color: white\" aria-valuenow=\"100\" aria-valuemin=\"0\" aria-valuemax=\"100\">\n",
       "    1 / 1\n",
       "  </div>\n",
       "  <div class=\"progress-bar\" role=\"progressbar\" style=\"background-color: red; width: 0%\" aria-valuenow=\"0\" aria-valuemin=\"0\" aria-valuemax=\"100\"></div>\n",
       "</div>\n"
      ]
     },
     "metadata": {},
     "output_type": "display_data"
    },
    {
     "data": {
      "text/html": [
       "\n",
       "      <table class=\"table\">\n",
       "        <tr>\n",
       "        <th>id</th><th>clientId</th><th>timestamp</th><th>product</th><th>price</th>\n",
       "        </tr>\n",
       "        <tr><td>87365481</td><td>XztHU0aeUckvR7AC</td><td>2022-11-14 13:25:...</td><td>café allongé</td><td>1.4</td></tr><tr><td>42761208</td><td>t_CUBr6tyTQxGj2X</td><td>2022-11-14 13:29:...</td><td>café crème</td><td>2.5</td></tr><tr><td>90524048</td><td>hdVMQjoIgOov09zb</td><td>2022-11-14 13:34:...</td><td>chocolat chaud</td><td>2.6</td></tr><tr><td>09935741</td><td>hdVMQjoIgOov09zb</td><td>2022-11-14 13:37:...</td><td>chocolat chaud</td><td>2.6</td></tr><tr><td>03486136</td><td>TX7wC0pTqCRlCOhi</td><td>2022-11-14 13:40:...</td><td>expresso</td><td>1.1</td></tr><tr><td>46727424</td><td>H-Mp22FLe99MNhRa</td><td>2022-11-14 13:45:...</td><td>décaféiné</td><td>1.4</td></tr><tr><td>97190478</td><td>oplTx8h-38G3be4c</td><td>2022-11-14 13:50:...</td><td>décaféiné</td><td>1.4</td></tr><tr><td>49642764</td><td>TX7wC0pTqCRlCOhi</td><td>2022-11-14 13:53:...</td><td>expresso</td><td>1.1</td></tr><tr><td>33866371</td><td>JBoCs7rWb_jEs87W</td><td>2022-11-14 13:56:...</td><td>double café</td><td>2.6</td></tr><tr><td>55962364</td><td>t_CUBr6tyTQxGj2X</td><td>2022-11-14 16:00:...</td><td>expresso</td><td>1.1</td></tr><tr><td>45571427</td><td>H-Mp22FLe99MNhRa</td><td>2022-11-14 16:03:...</td><td>café</td><td>1.3</td></tr><tr><td>35418464</td><td>hdVMQjoIgOov09zb</td><td>2022-11-14 16:07:...</td><td>décaféiné</td><td>1.4</td></tr><tr><td>82426835</td><td>oplTx8h-38G3be4c</td><td>2022-11-14 16:10:...</td><td>café</td><td>1.3</td></tr><tr><td>09865228</td><td>D7pVaSr2-BpeKGwE</td><td>2022-11-14 16:14:...</td><td>café allongé</td><td>1.4</td></tr><tr><td>41349409</td><td>vAfh79KyDpYeFEMR</td><td>2022-11-14 16:18:...</td><td>chocolat chaud</td><td>2.6</td></tr><tr><td>17449100</td><td>vAfh79KyDpYeFEMR</td><td>2022-11-14 16:22:...</td><td>café</td><td>1.3</td></tr><tr><td>87987128</td><td>hdVMQjoIgOov09zb</td><td>2022-11-14 16:26:...</td><td>double café</td><td>2.6</td></tr><tr><td>89345434</td><td>TX7wC0pTqCRlCOhi</td><td>2022-11-14 16:30:...</td><td>expresso</td><td>1.1</td></tr><tr><td>77596797</td><td>oplTx8h-38G3be4c</td><td>2022-11-14 16:35:...</td><td>expresso</td><td>1.1</td></tr><tr><td>95825082</td><td>oplTx8h-38G3be4c</td><td>2022-11-14 16:39:...</td><td>café</td><td>1.3</td></tr>\n",
       "      </table>"
      ]
     },
     "metadata": {},
     "output_type": "display_data"
    }
   ],
   "source": [
    "df."
   ]
  },
  {
   "cell_type": "code",
   "execution_count": 82,
   "id": "fe9afb8d-3e46-412c-9d73-51bd574f504a",
   "metadata": {
    "tags": []
   },
   "outputs": [
    {
     "data": {
      "text/html": [
       "<div>\n",
       "  <span style=\"float: left;\">showHTML</span>\n",
       "</div>\n"
      ]
     },
     "metadata": {},
     "output_type": "display_data"
    },
    {
     "data": {
      "text/html": [
       "<div class=\"progress\">\n",
       "  <div class=\"progress-bar\" role=\"progressbar\" style=\"background-color: blue; width: 100%; word-wrap: normal; white-space: nowrap; text-align: center; color: white\" aria-valuenow=\"100\" aria-valuemin=\"0\" aria-valuemax=\"100\">\n",
       "    1 / 1\n",
       "  </div>\n",
       "  <div class=\"progress-bar\" role=\"progressbar\" style=\"background-color: red; width: 0%\" aria-valuenow=\"0\" aria-valuemin=\"0\" aria-valuemax=\"100\"></div>\n",
       "</div>\n"
      ]
     },
     "metadata": {},
     "output_type": "display_data"
    },
    {
     "data": {
      "text/html": [
       "<div>\n",
       "  <span style=\"float: left;\">showHTML</span>\n",
       "</div>\n"
      ]
     },
     "metadata": {},
     "output_type": "display_data"
    },
    {
     "data": {
      "text/html": [
       "<div class=\"progress\">\n",
       "  <div class=\"progress-bar\" role=\"progressbar\" style=\"background-color: blue; width: 100%; word-wrap: normal; white-space: nowrap; text-align: center; color: white\" aria-valuenow=\"100\" aria-valuemin=\"0\" aria-valuemax=\"100\">\n",
       "    1 / 1\n",
       "  </div>\n",
       "  <div class=\"progress-bar\" role=\"progressbar\" style=\"background-color: red; width: 0%\" aria-valuenow=\"0\" aria-valuemin=\"0\" aria-valuemax=\"100\"></div>\n",
       "</div>\n"
      ]
     },
     "metadata": {},
     "output_type": "display_data"
    },
    {
     "data": {
      "text/html": [
       "\n",
       "      <table class=\"table\">\n",
       "        <tr>\n",
       "        <th>lang</th><th>screen_name</th><th>count</th>\n",
       "        </tr>\n",
       "        <tr><td>null</td><td>null</td><td>3149</td></tr><tr><td>en</td><td>null</td><td>2801</td></tr><tr><td>ja</td><td>null</td><td>117</td></tr><tr><td>en</td><td>austin_castel</td><td>53</td></tr><tr><td>pt</td><td>null</td><td>50</td></tr><tr><td>en</td><td>opensource_orgs</td><td>43</td></tr><tr><td>en</td><td>ServerlessFan</td><td>42</td></tr><tr><td>en</td><td>iPythonistaBot</td><td>38</td></tr><tr><td>es</td><td>null</td><td>37</td></tr><tr><td>en</td><td>DeveloperBot_v1</td><td>36</td></tr><tr><td>en</td><td>bigdataconf</td><td>32</td></tr><tr><td>en</td><td>DjangoBot_</td><td>31</td></tr><tr><td>it</td><td>null</td><td>29</td></tr><tr><td>en</td><td>CodeWithTwitchi</td><td>26</td></tr><tr><td>ca</td><td>null</td><td>24</td></tr><tr><td>en</td><td>hubofml</td><td>24</td></tr><tr><td>fr</td><td>null</td><td>23</td></tr><tr><td>en</td><td>PythonExpertBot</td><td>23</td></tr><tr><td>en</td><td>py_data_sci</td><td>19</td></tr><tr><td>en</td><td>ShyBOT7</td><td>17</td></tr>\n",
       "      </table>"
      ]
     },
     "metadata": {},
     "output_type": "display_data"
    }
   ],
   "source": [
    "tweets.rollup(\"lang\", \"user.screen_name\").count().orderBy($\"count\".desc).showHTML()"
   ]
  },
  {
   "cell_type": "code",
   "execution_count": 5,
   "id": "7f099436-46e3-4ff7-b955-9ce15dc737e7",
   "metadata": {
    "tags": []
   },
   "outputs": [
    {
     "data": {
      "text/html": [
       "<div>\n",
       "  <span style=\"float: left;\">showHTML</span>\n",
       "</div>\n"
      ]
     },
     "metadata": {},
     "output_type": "display_data"
    },
    {
     "data": {
      "text/html": [
       "<div class=\"progress\">\n",
       "  <div class=\"progress-bar\" role=\"progressbar\" style=\"background-color: blue; width: 100%; word-wrap: normal; white-space: nowrap; text-align: center; color: white\" aria-valuenow=\"100\" aria-valuemin=\"0\" aria-valuemax=\"100\">\n",
       "    1 / 1\n",
       "  </div>\n",
       "  <div class=\"progress-bar\" role=\"progressbar\" style=\"background-color: red; width: 0%\" aria-valuenow=\"0\" aria-valuemin=\"0\" aria-valuemax=\"100\"></div>\n",
       "</div>\n"
      ]
     },
     "metadata": {},
     "output_type": "display_data"
    },
    {
     "data": {
      "text/html": [
       "\n",
       "      <table class=\"table\">\n",
       "        <tr>\n",
       "        <th>created_at</th><th>hour</th>\n",
       "        </tr>\n",
       "        <tr><td>1632390898000</td><td>9</td></tr><tr><td>1632390146000</td><td>9</td></tr><tr><td>1632389583000</td><td>9</td></tr><tr><td>1632389234000</td><td>9</td></tr><tr><td>1632388896000</td><td>9</td></tr><tr><td>1632388186000</td><td>9</td></tr><tr><td>1632387911000</td><td>9</td></tr><tr><td>1632387775000</td><td>9</td></tr><tr><td>1632387762000</td><td>9</td></tr><tr><td>1632387602000</td><td>9</td></tr><tr><td>1632386940000</td><td>8</td></tr><tr><td>1632386503000</td><td>8</td></tr><tr><td>1632385896000</td><td>8</td></tr><tr><td>1632385855000</td><td>8</td></tr><tr><td>1632384458000</td><td>8</td></tr><tr><td>1632383899000</td><td>7</td></tr><tr><td>1632383584000</td><td>7</td></tr><tr><td>1632383539000</td><td>7</td></tr><tr><td>1632383505000</td><td>7</td></tr><tr><td>1632383145000</td><td>7</td></tr>\n",
       "      </table>"
      ]
     },
     "metadata": {},
     "output_type": "display_data"
    },
    {
     "data": {
      "text/plain": [
       "\u001b[32mimport \u001b[39m\u001b[36mjava.time._\n",
       "\n",
       "\u001b[39m\n",
       "defined \u001b[32mfunction\u001b[39m \u001b[36mhourOfEpochMilli\u001b[39m\n",
       "\u001b[36mhourOfEpochMilli_udf\u001b[39m: \u001b[32mexpressions\u001b[39m.\u001b[32mUserDefinedFunction\u001b[39m = \u001b[33mSparkUserDefinedFunction\u001b[39m(\n",
       "  f = ammonite.$sess.cmd4$Helper$$Lambda$5857/309698468@40e4dd6,\n",
       "  dataType = IntegerType,\n",
       "  inputEncoders = \u001b[33mList\u001b[39m(\n",
       "    \u001b[33mSome\u001b[39m(\n",
       "      value = \u001b[33mExpressionEncoder\u001b[39m(\n",
       "        objSerializer = \u001b[33mBoundReference\u001b[39m(\n",
       "          ordinal = \u001b[32m0\u001b[39m,\n",
       "          dataType = LongType,\n",
       "          nullable = \u001b[32mfalse\u001b[39m\n",
       "        ),\n",
       "        objDeserializer = \u001b[33mAssertNotNull\u001b[39m(\n",
       "          child = \u001b[33mUpCast\u001b[39m(\n",
       "            child = \u001b[33mGetColumnByOrdinal\u001b[39m(ordinal = \u001b[32m0\u001b[39m, dataType = LongType),\n",
       "            target = LongType,\n",
       "            walkedTypePath = \u001b[33mList\u001b[39m(\u001b[32m\"- root class: \\\"scala.Long\\\"\"\u001b[39m)\n",
       "          ),\n",
       "          walkedTypePath = \u001b[33mList\u001b[39m(\u001b[32m\"- root class: \\\"scala.Long\\\"\"\u001b[39m)\n",
       "        ),\n",
       "        clsTag = Long\n",
       "      )\n",
       "    )\n",
       "  ),\n",
       "  outputEncoder = \u001b[33mSome\u001b[39m(\n",
       "    value = \u001b[33mExpressionEncoder\u001b[39m(\n",
       "      objSerializer = \u001b[33mBoundReference\u001b[39m(\n",
       "        ordinal = \u001b[32m0\u001b[39m,\n",
       "        dataType = IntegerType,\n",
       "        nullable = \u001b[32mfalse\u001b[39m\n",
       "      ),\n",
       "      objDeserializer = \u001b[33mAssertNotNull\u001b[39m(\n",
       "        child = \u001b[33mUpCast\u001b[39m(\n",
       "          child = \u001b[33mGetColumnByOrdinal\u001b[39m(ordinal = \u001b[32m0\u001b[39m, dataType = IntegerType),\n",
       "          target = IntegerType,\n",
       "          walkedTypePath = \u001b[33mList\u001b[39m(\u001b[32m\"- root class: \\\"scala.Int\\\"\"\u001b[39m)\n",
       "        ),\n",
       "        walkedTypePath = \u001b[33mList\u001b[39m(\u001b[32m\"- root class: \\\"scala.Int\\\"\"\u001b[39m)\n",
       "      ),\n",
       "      clsTag = Int\n",
       "...\n",
       "\u001b[36mres4_4\u001b[39m: \u001b[32mexpressions\u001b[39m.\u001b[32mUserDefinedFunction\u001b[39m = \u001b[33mSparkUserDefinedFunction\u001b[39m(\n",
       "  f = ammonite.$sess.cmd4$Helper$$Lambda$5857/309698468@40e4dd6,\n",
       "  dataType = IntegerType,\n",
       "  inputEncoders = \u001b[33mList\u001b[39m(\n",
       "    \u001b[33mSome\u001b[39m(\n",
       "      value = \u001b[33mExpressionEncoder\u001b[39m(\n",
       "        objSerializer = \u001b[33mBoundReference\u001b[39m(\n",
       "          ordinal = \u001b[32m0\u001b[39m,\n",
       "          dataType = LongType,\n",
       "          nullable = \u001b[32mfalse\u001b[39m\n",
       "        ),\n",
       "        objDeserializer = \u001b[33mAssertNotNull\u001b[39m(\n",
       "          child = \u001b[33mUpCast\u001b[39m(\n",
       "            child = \u001b[33mGetColumnByOrdinal\u001b[39m(ordinal = \u001b[32m0\u001b[39m, dataType = LongType),\n",
       "            target = LongType,\n",
       "            walkedTypePath = \u001b[33mList\u001b[39m(\u001b[32m\"- root class: \\\"scala.Long\\\"\"\u001b[39m)\n",
       "          ),\n",
       "          walkedTypePath = \u001b[33mList\u001b[39m(\u001b[32m\"- root class: \\\"scala.Long\\\"\"\u001b[39m)\n",
       "        ),\n",
       "        clsTag = Long\n",
       "      )\n",
       "    )\n",
       "  ),\n",
       "  outputEncoder = \u001b[33mSome\u001b[39m(\n",
       "    value = \u001b[33mExpressionEncoder\u001b[39m(\n",
       "      objSerializer = \u001b[33mBoundReference\u001b[39m(\n",
       "        ordinal = \u001b[32m0\u001b[39m,\n",
       "        dataType = IntegerType,\n",
       "        nullable = \u001b[32mfalse\u001b[39m\n",
       "      ),\n",
       "      objDeserializer = \u001b[33mAssertNotNull\u001b[39m(\n",
       "        child = \u001b[33mUpCast\u001b[39m(\n",
       "          child = \u001b[33mGetColumnByOrdinal\u001b[39m(ordinal = \u001b[32m0\u001b[39m, dataType = IntegerType),\n",
       "          target = IntegerType,\n",
       "          walkedTypePath = \u001b[33mList\u001b[39m(\u001b[32m\"- root class: \\\"scala.Int\\\"\"\u001b[39m)\n",
       "        ),\n",
       "        walkedTypePath = \u001b[33mList\u001b[39m(\u001b[32m\"- root class: \\\"scala.Int\\\"\"\u001b[39m)\n",
       "      ),\n",
       "      clsTag = Int\n",
       "..."
      ]
     },
     "execution_count": 5,
     "metadata": {},
     "output_type": "execute_result"
    }
   ],
   "source": [
    "import java.time._\n",
    "\n",
    "def hourOfEpochMilli(epochMilli: Long): Int = {\n",
    "  val instant = Instant.ofEpochMilli(epochMilli)\n",
    "  val dateTime = LocalDateTime.ofInstant(instant, ZoneOffset.UTC)\n",
    "  dateTime.getHour()\n",
    "}\n",
    "\n",
    "val hourOfEpochMilli_udf = udf[Int, Long](hourOfEpochMilli).withName(\"hourOfEpochMilli\")\n",
    "\n",
    "tweets.createOrReplaceTempView(\"tweets\")\n",
    "\n",
    "spark.udf.register(\"hourOfEpochMilli\", hourOfEpochMilli_udf)\n",
    "\n",
    "spark.sql(\"\"\"\n",
    "SELECT created_at, hourOfEpochMilli(created_at) AS hour\n",
    "FROM tweets\n",
    "\"\"\").showHTML()"
   ]
  },
  {
   "cell_type": "code",
   "execution_count": null,
   "id": "935aee7a-d235-44f5-9b6a-f05b217f6465",
   "metadata": {},
   "outputs": [],
   "source": []
  }
 ],
 "metadata": {
  "kernelspec": {
   "display_name": "Scala 2.13",
   "language": "scala",
   "name": "scala213"
  },
  "language_info": {
   "codemirror_mode": "text/x-scala",
   "file_extension": ".sc",
   "mimetype": "text/x-scala",
   "name": "scala",
   "nbconvert_exporter": "script",
   "version": "2.13.10"
  }
 },
 "nbformat": 4,
 "nbformat_minor": 5
}
