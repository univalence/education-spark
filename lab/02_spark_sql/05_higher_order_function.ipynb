{
 "cells": [
  {
   "cell_type": "markdown",
   "id": "617242c4-f978-4e21-b194-c43b6434db97",
   "metadata": {},
   "source": [
    "# Fonction d'ordre supérieur\n",
    "\n",
    "Les fonctions d'ordre supérieur dans Spark SQL sont des fonctions qui prennent d'autres fonctions comme arguments ou qui retournent des fonctions. Ces fonctions permettent d'effectuer des opérations complexes sur des données structurées telles que des tableaux ou des structures dans Spark SQL.\n",
    "\n",
    "À partir de la version 2.4, Spark SQL a introduit plusieurs fonctions d'ordre supérieur pour travailler avec des données complexes. Voici quelques exemples de fonctions d'ordre supérieur couramment utilisées dans Spark SQL :\n",
    "\n",
    "* **transform** : Applique une fonction donnée à chaque élément d'un tableau et retourne un nouveau tableau avec les résultats.<br />Syntaxe : `transform(array, function)`.\n",
    "* **filter** : Retourne un nouveau tableau contenant les éléments qui satisfont la condition spécifiée par la fonction donnée.<br />Syntaxe : `filter(array, function)`.\n",
    "* **exists** : Vérifie si au moins un élément d'un tableau satisfait la condition spécifiée par la fonction donnée.<br />Syntaxe : `exists(array, function)`.\n",
    "* **aggregate** : Agrège les éléments d'un tableau à l'aide d'une fonction d'agrégation et d'une valeur initiale.<br />Syntaxe : `aggregate(array, initial_value, merge_function[, finish_function])`."
   ]
  },
  {
   "cell_type": "markdown",
   "id": "32428cf8-b4d6-4701-9c53-c11af78affe7",
   "metadata": {
    "tags": []
   },
   "source": [
    "## Préambule"
   ]
  },
  {
   "cell_type": "code",
   "execution_count": 1,
   "id": "52a7dfa8-24a3-4426-81ab-3138506b1d0f",
   "metadata": {
    "tags": []
   },
   "outputs": [
    {
     "data": {
      "text/plain": [
       "\u001b[32mimport \u001b[39m\u001b[36m$ivy.$                                   \n",
       "\u001b[39m\n",
       "\u001b[32mimport \u001b[39m\u001b[36m$ivy.$                                  \n",
       "\u001b[39m\n",
       "\u001b[32mimport \u001b[39m\u001b[36m$ivy.$                               \n",
       "\n",
       "\u001b[39m\n",
       "\u001b[32mimport \u001b[39m\u001b[36morg.apache.logging.log4j.Level\n",
       "\u001b[39m\n",
       "\u001b[32mimport \u001b[39m\u001b[36morg.apache.logging.log4j.core.config.Configurator\n",
       "\n",
       "// Avoid disturbing logs\n",
       "\u001b[39m"
      ]
     },
     "execution_count": 1,
     "metadata": {},
     "output_type": "execute_result"
    }
   ],
   "source": [
    "import $ivy.`org.apache.spark::spark-core:3.3.2`\n",
    "import $ivy.`org.apache.spark::spark-sql:3.3.2`\n",
    "import $ivy.`org.slf4j:slf4j-reload4j:2.0.6`\n",
    "\n",
    "import org.apache.logging.log4j.Level\n",
    "import org.apache.logging.log4j.core.config.Configurator\n",
    "\n",
    "// Avoid disturbing logs\n",
    "Configurator.setRootLevel(Level.OFF)"
   ]
  },
  {
   "cell_type": "code",
   "execution_count": 2,
   "id": "0a591d47-3e95-415e-9177-90eb995a2e16",
   "metadata": {
    "tags": []
   },
   "outputs": [
    {
     "name": "stdout",
     "output_type": "stream",
     "text": [
      "Loading spark-stubs\n",
      "Getting spark JARs\n"
     ]
    },
    {
     "name": "stderr",
     "output_type": "stream",
     "text": [
      "SLF4J: No SLF4J providers were found.\n",
      "SLF4J: Defaulting to no-operation (NOP) logger implementation\n",
      "SLF4J: See https://www.slf4j.org/codes.html#noProviders for further details.\n"
     ]
    },
    {
     "name": "stdout",
     "output_type": "stream",
     "text": [
      "Creating SparkSession\n"
     ]
    },
    {
     "data": {
      "text/html": [
       "<a target=\"_blank\" href=\"http://ae5d1d1cfcf7:4041\">Spark UI</a>"
      ]
     },
     "metadata": {},
     "output_type": "display_data"
    },
    {
     "data": {
      "text/plain": [
       "\u001b[32mimport \u001b[39m\u001b[36morg.apache.spark.sql._\n",
       "\u001b[39m\n",
       "\u001b[32mimport \u001b[39m\u001b[36morg.apache.spark.sql.functions._\n",
       "\u001b[39m\n",
       "\u001b[32mimport \u001b[39m\u001b[36morg.apache.spark.rdd._\n",
       "\n",
       "\u001b[39m\n",
       "\u001b[36mspark\u001b[39m: \u001b[32mSparkSession\u001b[39m = org.apache.spark.sql.SparkSession@2d38f43\n",
       "\u001b[32mimport \u001b[39m\u001b[36mspark.implicits._\n",
       "\n",
       "// Ce script fournit que élément supplémentaires pour rendre l'affichage plus confortable\n",
       "\u001b[39m\n",
       "\u001b[32mimport \u001b[39m\u001b[36m$file.$                      , spark_helper._\u001b[39m"
      ]
     },
     "execution_count": 2,
     "metadata": {},
     "output_type": "execute_result"
    }
   ],
   "source": [
    "import org.apache.spark.sql._\n",
    "import org.apache.spark.sql.functions._\n",
    "import org.apache.spark.rdd._\n",
    "\n",
    "val spark = {\n",
    "  NotebookSparkSession.builder()\n",
    "    .master(\"local[*]\")\n",
    "    // L'appel ci-dessous sert à donner un nom à votre application\n",
    "    // Ce apparaîtra notamment dans la Spark UI\n",
    "    .appName(\"Sales Analysis - SparkSQL\")\n",
    "    .getOrCreate()\n",
    "}\n",
    "\n",
    "import spark.implicits._\n",
    "\n",
    "// Ce script fournit que élément supplémentaires pour rendre l'affichage plus confortable\n",
    "import $file.^.internal.spark_helper, spark_helper._"
   ]
  },
  {
   "cell_type": "markdown",
   "id": "fd8ad563-d9d0-4d2c-b99f-6ad1513bdbf2",
   "metadata": {},
   "source": [
    "## Chargement"
   ]
  },
  {
   "cell_type": "code",
   "execution_count": 8,
   "id": "3ee4f237-e002-4ae9-9220-0f064ed91c4e",
   "metadata": {
    "tags": []
   },
   "outputs": [
    {
     "data": {
      "text/plain": [
       "\u001b[36mdataframe\u001b[39m: \u001b[32mDataFrame\u001b[39m = [id: string, client: string ... 3 more fields]\n",
       "\u001b[32mimport \u001b[39m\u001b[36mjava.sql.Timestamp\n",
       "\n",
       "\u001b[39m\n",
       "defined \u001b[32mclass\u001b[39m \u001b[36mOrder\u001b[39m\n",
       "\u001b[36morders\u001b[39m: \u001b[32mDataset\u001b[39m[\u001b[32mOrder\u001b[39m] = [id: string, clientId: string ... 3 more fields]"
      ]
     },
     "execution_count": 8,
     "metadata": {},
     "output_type": "execute_result"
    }
   ],
   "source": [
    "val dataframe: DataFrame =\n",
    "  spark.read\n",
    "    // indique que le fichier contient une ligne d'en-tête qui servira\n",
    "    // pour nommer les champs\n",
    "    .option(\"header\", true)\n",
    "    // demande à Spark SQL de tenter de déterminer le type des colonnes\n",
    "    .schema(\"id STRING, client STRING, timestamp TIMESTAMP, product STRING, price DOUBLE\")\n",
    "    // lecture du fichier au format CSV\n",
    "    .csv(\"data/orders.csv\")\n",
    "\n",
    "import java.sql.Timestamp\n",
    "\n",
    "case class Order(\n",
    "  id:        String,\n",
    "  clientId:  String,\n",
    "  timestamp: Timestamp,\n",
    "  product:   String,\n",
    "  price:     Double\n",
    ")\n",
    "\n",
    "val orders: Dataset[Order] =\n",
    "  dataframe\n",
    "    .withColumnRenamed(\"client\", \"clientId\")\n",
    "    .as[Order]\n",
    "\n",
    "orders.createOrReplaceTempView(\"orders\")"
   ]
  },
  {
   "cell_type": "code",
   "execution_count": 4,
   "id": "f3e36cc8-18f2-45ce-a862-277af699a99d",
   "metadata": {
    "tags": []
   },
   "outputs": [
    {
     "data": {
      "text/html": [
       "<script>\n",
       "var comm = Jupyter.notebook.kernel.comm_manager.new_comm('cancel-stage-87386e7c-8713-48d4-abe0-2c15c57b09c3', {});\n",
       "\n",
       "function cancelStage(stageId) {\n",
       "  console.log('Cancelling stage ' + stageId);\n",
       "  comm.send({ 'stageId': stageId });\n",
       "}\n",
       "</script>\n",
       "          "
      ]
     },
     "metadata": {},
     "output_type": "display_data"
    },
    {
     "data": {
      "text/html": [
       "<div>\n",
       "  <span style=\"float: left;\">showHTML</span>\n",
       "</div>\n"
      ]
     },
     "metadata": {},
     "output_type": "display_data"
    },
    {
     "data": {
      "text/html": [
       "<div class=\"progress\">\n",
       "  <div class=\"progress-bar\" role=\"progressbar\" style=\"background-color: blue; width: 100%; word-wrap: normal; white-space: nowrap; text-align: center; color: white\" aria-valuenow=\"100\" aria-valuemin=\"0\" aria-valuemax=\"100\">\n",
       "    1 / 1\n",
       "  </div>\n",
       "  <div class=\"progress-bar\" role=\"progressbar\" style=\"background-color: red; width: 0%\" aria-valuenow=\"0\" aria-valuemin=\"0\" aria-valuemax=\"100\"></div>\n",
       "</div>\n"
      ]
     },
     "metadata": {},
     "output_type": "display_data"
    },
    {
     "data": {
      "text/html": [
       "<div>\n",
       "  <span style=\"float: left;\">showHTML</span>\n",
       "</div>\n"
      ]
     },
     "metadata": {},
     "output_type": "display_data"
    },
    {
     "data": {
      "text/html": [
       "<div class=\"progress\">\n",
       "  <div class=\"progress-bar\" role=\"progressbar\" style=\"background-color: blue; width: 100%; word-wrap: normal; white-space: nowrap; text-align: center; color: white\" aria-valuenow=\"100\" aria-valuemin=\"0\" aria-valuemax=\"100\">\n",
       "    1 / 1\n",
       "  </div>\n",
       "  <div class=\"progress-bar\" role=\"progressbar\" style=\"background-color: red; width: 0%\" aria-valuenow=\"0\" aria-valuemin=\"0\" aria-valuemax=\"100\"></div>\n",
       "</div>\n"
      ]
     },
     "metadata": {},
     "output_type": "display_data"
    },
    {
     "data": {
      "text/html": [
       "\n",
       "      <table class=\"table\">\n",
       "        <tr>\n",
       "        <th>date</th><th>price</th>\n",
       "        </tr>\n",
       "        <tr><td>2022-11-14</td><td>[1.4, 2.5, 2.6, 2.6, 1.1, 1.4, 1.4, 1.1, 2.6, 1.1, 1.3, 1.4, 1.3, 1.4, 2.6, 1.3, 2.6, 1.1, 1.1, 1.3, 1.3, 1.1, 1.4, 1...</td></tr><tr><td>2022-11-15</td><td>[2.5, 1.5, 1.4, 1.1, 1.3, 1.1, 2.5, 1.1, 2.6, 1.1, 1.1, 1.4, 1.1, 1.5, 1.5, 1.3, 2.5, 2.6, 1.4, 1.4, 1.3, 1.3, 1.1, 1...</td></tr><tr><td>2022-11-16</td><td>[1.1, 1.1, 1.5, 1.3, 1.3, 1.1, 1.1, 1.4, 1.4, 2.6, 2.6, 1.1, 2.6, 1.1, 2.5, 1.1, 2.5, 2.6, 2.5, 1.1, 1.1, 1.1, 1.3, 1...</td></tr><tr><td>2022-11-17</td><td>[1.1, 1.1, 1.4, 1.1, 1.4, 1.1, 1.1, 1.4, 1.3, 2.6, 1.5, 1.1, 1.1, 1.1, 1.3, 1.5, 1.4, 2.6, 1.5, 2.6, 1.4, 2.6, 1.3, 1...</td></tr><tr><td>2022-11-18</td><td>[2.6, 1.3, 1.4, 1.1, 1.1, 1.3, 1.4, 1.5, 1.3, 2.6, 2.5, 1.1, 1.3, 2.6, 1.1, 1.1, 1.4, 1.3, 1.4, 1.3, 1.4, 1.4, 1.1, 1...</td></tr><tr><td>2022-11-19</td><td>[1.1]</td></tr><tr><td>2022-11-21</td><td>[1.1, 1.1, 1.4, 1.4, 1.4, 1.4, 1.4, 1.3, 1.1, 1.4, 1.1, 1.3, 1.4, 2.6, 1.1, 1.5, 1.4, 1.1, 1.1, 2.5, 1.1, 1.1, 1.1, 1...</td></tr><tr><td>2022-11-22</td><td>[1.5, 1.4, 2.6, 1.5, 1.4, 1.3, 1.4, 1.3, 1.1, 1.3, 1.4, 1.1, 1.3, 1.1, 1.1, 1.3, 2.6, 1.5, 1.5, 1.3, 1.1, 2.6, 1.1, 2...</td></tr><tr><td>2022-11-23</td><td>[1.1, 1.1, 1.5, 1.1, 2.6, 1.3, 1.3, 1.3, 1.5, 2.6, 1.4, 1.3, 2.6, 1.4, 1.1, 2.6, 1.4, 1.4, 1.5, 2.6, 1.3, 1.1, 1.1, 1...</td></tr><tr><td>2022-11-24</td><td>[2.5, 1.4, 1.1, 1.4, 1.3, 1.1, 1.4, 1.1, 1.3, 1.1, 1.1, 1.3, 1.1, 1.1, 1.1, 1.4, 1.3, 1.1, 2.5, 1.3, 1.4, 1.3, 1.1, 1...</td></tr><tr><td>2022-11-25</td><td>[1.3, 1.1, 1.4, 1.1, 1.4, 1.4, 2.6, 1.4, 1.4, 1.3, 1.1, 1.1, 1.4, 1.1, 1.3, 1.1, 1.4, 1.4, 1.1, 1.3, 1.3, 1.1, 2.6, 1...</td></tr><tr><td>2022-11-26</td><td>[1.4]</td></tr><tr><td>2022-11-28</td><td>[2.6, 1.1, 1.1, 2.5, 1.3, 2.5, 1.5, 1.5, 2.6, 1.4, 2.5, 1.3, 1.1, 1.3, 1.3, 1.4, 2.6, 1.1, 1.4, 1.3, 1.4, 2.6, 1.3, 1...</td></tr><tr><td>2022-11-29</td><td>[1.4, 2.6, 1.3, 2.6, 2.6, 1.1, 2.6, 1.1, 1.4, 1.1, 1.1, 2.5, 1.1, 1.1, 1.3, 2.6, 1.4, 1.3, 1.3, 1.1, 1.1, 1.3, 1.5, 1...</td></tr><tr><td>2022-11-30</td><td>[1.4, 1.3, 1.1, 1.3, 1.1, 2.5, 1.1, 1.4, 2.6, 1.4, 1.3, 2.6, 1.1, 1.4, 1.4, 2.6, 1.3, 1.3, 2.6, 1.4, 2.6, 1.1, 1.5, 1...</td></tr><tr><td>2022-12-01</td><td>[1.4, 1.4, 1.3, 1.1, 1.1, 1.5, 1.5, 1.1, 1.4, 1.5, 1.1, 1.1, 1.1, 1.3, 2.5, 1.4, 1.4, 1.4, 1.1, 1.1, 2.5, 1.3, 1.5, 1...</td></tr><tr><td>2022-12-02</td><td>[1.4, 1.1, 1.5, 1.4, 1.3, 1.1, 1.5, 1.3, 1.4, 1.4, 1.5, 2.6, 1.1, 1.3, 1.4, 1.4, 1.3, 1.1, 2.6, 1.3, 1.4, 1.1, 2.6, 1...</td></tr><tr><td>2022-12-03</td><td>[1.4]</td></tr><tr><td>2022-12-05</td><td>[1.3, 1.1, 1.4, 1.1, 1.1, 1.3, 1.1, 2.6, 2.5, 1.1, 2.6, 1.1, 1.4, 1.1, 1.3, 1.4, 1.1, 2.6, 1.4, 1.4, 1.1, 1.3, 1.4, 1...</td></tr><tr><td>2022-12-06</td><td>[1.4, 2.5, 1.1, 1.3, 2.6, 1.1, 1.1, 1.4, 1.1, 1.5, 1.4, 1.4, 1.3, 1.4, 1.1, 1.3, 1.1, 1.1, 2.5, 1.4, 1.4, 1.1, 1.1, 1...</td></tr>\n",
       "      </table>"
      ]
     },
     "metadata": {},
     "output_type": "display_data"
    },
    {
     "data": {
      "text/plain": [
       "\u001b[36mpricesByDay\u001b[39m: \u001b[32mDataFrame\u001b[39m = [date: date, price: array<double>]"
      ]
     },
     "execution_count": 4,
     "metadata": {},
     "output_type": "execute_result"
    }
   ],
   "source": [
    "val pricesByDay =\n",
    "  orders\n",
    "    .groupBy(to_date($\"timestamp\").as(\"date\"))\n",
    "    .agg(collect_list($\"price\").as(\"price\"))\n",
    "\n",
    "pricesByDay.showHTML(truncate=120)"
   ]
  },
  {
   "cell_type": "code",
   "execution_count": 7,
   "id": "dd766915-2ef0-4e82-b6b4-994b1a193176",
   "metadata": {
    "tags": []
   },
   "outputs": [
    {
     "data": {
      "text/html": [
       "<div>\n",
       "  <span style=\"float: left;\">showHTML</span>\n",
       "</div>\n"
      ]
     },
     "metadata": {},
     "output_type": "display_data"
    },
    {
     "data": {
      "text/html": [
       "<div class=\"progress\">\n",
       "  <div class=\"progress-bar\" role=\"progressbar\" style=\"background-color: blue; width: 100%; word-wrap: normal; white-space: nowrap; text-align: center; color: white\" aria-valuenow=\"100\" aria-valuemin=\"0\" aria-valuemax=\"100\">\n",
       "    1 / 1\n",
       "  </div>\n",
       "  <div class=\"progress-bar\" role=\"progressbar\" style=\"background-color: red; width: 0%\" aria-valuenow=\"0\" aria-valuemin=\"0\" aria-valuemax=\"100\"></div>\n",
       "</div>\n"
      ]
     },
     "metadata": {},
     "output_type": "display_data"
    },
    {
     "data": {
      "text/html": [
       "<div>\n",
       "  <span style=\"float: left;\">showHTML</span>\n",
       "</div>\n"
      ]
     },
     "metadata": {},
     "output_type": "display_data"
    },
    {
     "data": {
      "text/html": [
       "<div class=\"progress\">\n",
       "  <div class=\"progress-bar\" role=\"progressbar\" style=\"background-color: blue; width: 100%; word-wrap: normal; white-space: nowrap; text-align: center; color: white\" aria-valuenow=\"100\" aria-valuemin=\"0\" aria-valuemax=\"100\">\n",
       "    1 / 1\n",
       "  </div>\n",
       "  <div class=\"progress-bar\" role=\"progressbar\" style=\"background-color: red; width: 0%\" aria-valuenow=\"0\" aria-valuemin=\"0\" aria-valuemax=\"100\"></div>\n",
       "</div>\n"
      ]
     },
     "metadata": {},
     "output_type": "display_data"
    },
    {
     "data": {
      "text/html": [
       "\n",
       "      <table class=\"table\">\n",
       "        <tr>\n",
       "        <th>date</th><th>one</th><th>total</th>\n",
       "        </tr>\n",
       "        <tr><td>2022-11-14</td><td>[1, 1, 1, 1, 1, 1...</td><td>60.199999999999996</td></tr><tr><td>2022-11-15</td><td>[1, 1, 1, 1, 1, 1...</td><td>111.99999999999997</td></tr><tr><td>2022-11-16</td><td>[1, 1, 1, 1, 1, 1...</td><td>108.1</td></tr><tr><td>2022-11-17</td><td>[1, 1, 1, 1, 1, 1...</td><td>109.79999999999994</td></tr><tr><td>2022-11-18</td><td>[1, 1, 1, 1, 1, 1...</td><td>118.29999999999991</td></tr><tr><td>2022-11-19</td><td>[1]</td><td>1.1</td></tr><tr><td>2022-11-21</td><td>[1, 1, 1, 1, 1, 1...</td><td>108.19999999999992</td></tr><tr><td>2022-11-22</td><td>[1, 1, 1, 1, 1, 1...</td><td>111.49999999999997</td></tr><tr><td>2022-11-23</td><td>[1, 1, 1, 1, 1, 1...</td><td>118.29999999999991</td></tr><tr><td>2022-11-24</td><td>[1, 1, 1, 1, 1, 1...</td><td>112.79999999999995</td></tr><tr><td>2022-11-25</td><td>[1, 1, 1, 1, 1, 1...</td><td>104.49999999999997</td></tr><tr><td>2022-11-26</td><td>[1]</td><td>1.4</td></tr><tr><td>2022-11-28</td><td>[1, 1, 1, 1, 1, 1...</td><td>118.39999999999992</td></tr><tr><td>2022-11-29</td><td>[1, 1, 1, 1, 1, 1...</td><td>116.49999999999993</td></tr><tr><td>2022-11-30</td><td>[1, 1, 1, 1, 1, 1...</td><td>118.49999999999994</td></tr><tr><td>2022-12-01</td><td>[1, 1, 1, 1, 1, 1...</td><td>112.69999999999995</td></tr><tr><td>2022-12-02</td><td>[1, 1, 1, 1, 1, 1...</td><td>112.19999999999995</td></tr><tr><td>2022-12-03</td><td>[1]</td><td>1.4</td></tr><tr><td>2022-12-05</td><td>[1, 1, 1, 1, 1, 1...</td><td>110.09999999999995</td></tr><tr><td>2022-12-06</td><td>[1, 1, 1, 1, 1, 1...</td><td>112.79999999999995</td></tr>\n",
       "      </table>"
      ]
     },
     "metadata": {},
     "output_type": "display_data"
    }
   ],
   "source": [
    "pricesByDay\n",
    "  .select(\n",
    "      $\"date\",\n",
    "      transform($\"price\", _ => lit(1)).as(\"one\"),\n",
    "      aggregate($\"price\", lit(0.0), _ + _).as(\"total\")\n",
    "  )\n",
    "\n",
    ".showHTML()"
   ]
  },
  {
   "cell_type": "code",
   "execution_count": 15,
   "id": "0784baba-b688-4899-a33c-13d7f2e40568",
   "metadata": {
    "tags": []
   },
   "outputs": [
    {
     "data": {
      "text/html": [
       "<div>\n",
       "  <span style=\"float: left;\">showHTML</span>\n",
       "</div>\n"
      ]
     },
     "metadata": {},
     "output_type": "display_data"
    },
    {
     "data": {
      "text/html": [
       "<div class=\"progress\">\n",
       "  <div class=\"progress-bar\" role=\"progressbar\" style=\"background-color: blue; width: 100%; word-wrap: normal; white-space: nowrap; text-align: center; color: white\" aria-valuenow=\"100\" aria-valuemin=\"0\" aria-valuemax=\"100\">\n",
       "    1 / 1\n",
       "  </div>\n",
       "  <div class=\"progress-bar\" role=\"progressbar\" style=\"background-color: red; width: 0%\" aria-valuenow=\"0\" aria-valuemin=\"0\" aria-valuemax=\"100\"></div>\n",
       "</div>\n"
      ]
     },
     "metadata": {},
     "output_type": "display_data"
    },
    {
     "data": {
      "text/html": [
       "<div>\n",
       "  <span style=\"float: left;\">showHTML</span>\n",
       "</div>\n"
      ]
     },
     "metadata": {},
     "output_type": "display_data"
    },
    {
     "data": {
      "text/html": [
       "<div class=\"progress\">\n",
       "  <div class=\"progress-bar\" role=\"progressbar\" style=\"background-color: blue; width: 100%; word-wrap: normal; white-space: nowrap; text-align: center; color: white\" aria-valuenow=\"100\" aria-valuemin=\"0\" aria-valuemax=\"100\">\n",
       "    1 / 1\n",
       "  </div>\n",
       "  <div class=\"progress-bar\" role=\"progressbar\" style=\"background-color: red; width: 0%\" aria-valuenow=\"0\" aria-valuemin=\"0\" aria-valuemax=\"100\"></div>\n",
       "</div>\n"
      ]
     },
     "metadata": {},
     "output_type": "display_data"
    },
    {
     "data": {
      "text/html": [
       "\n",
       "      <table class=\"table\">\n",
       "        <tr>\n",
       "        <th>date</th><th>one</th><th>total</th>\n",
       "        </tr>\n",
       "        <tr><td>2022-11-14</td><td>[1, 1, 1, 1, 1, 1, 1, 1, 1, 1, 1, 1, 1, 1, 1, 1, 1, 1, 1, 1, 1, 1, 1, 1, 1, 1, 1, 1, 1, 1, 1, 1, 1, 1, 1, 1, 1, 1, 1]</td><td>60.199999999999996</td></tr><tr><td>2022-11-15</td><td>[1, 1, 1, 1, 1, 1, 1, 1, 1, 1, 1, 1, 1, 1, 1, 1, 1, 1, 1, 1, 1, 1, 1, 1, 1, 1, 1, 1, 1, 1, 1, 1, 1, 1, 1, 1, 1, 1, 1,...</td><td>111.99999999999997</td></tr><tr><td>2022-11-16</td><td>[1, 1, 1, 1, 1, 1, 1, 1, 1, 1, 1, 1, 1, 1, 1, 1, 1, 1, 1, 1, 1, 1, 1, 1, 1, 1, 1, 1, 1, 1, 1, 1, 1, 1, 1, 1, 1, 1, 1,...</td><td>108.1</td></tr><tr><td>2022-11-17</td><td>[1, 1, 1, 1, 1, 1, 1, 1, 1, 1, 1, 1, 1, 1, 1, 1, 1, 1, 1, 1, 1, 1, 1, 1, 1, 1, 1, 1, 1, 1, 1, 1, 1, 1, 1, 1, 1, 1, 1,...</td><td>109.79999999999994</td></tr><tr><td>2022-11-18</td><td>[1, 1, 1, 1, 1, 1, 1, 1, 1, 1, 1, 1, 1, 1, 1, 1, 1, 1, 1, 1, 1, 1, 1, 1, 1, 1, 1, 1, 1, 1, 1, 1, 1, 1, 1, 1, 1, 1, 1,...</td><td>118.29999999999991</td></tr><tr><td>2022-11-19</td><td>[1]</td><td>1.1</td></tr><tr><td>2022-11-21</td><td>[1, 1, 1, 1, 1, 1, 1, 1, 1, 1, 1, 1, 1, 1, 1, 1, 1, 1, 1, 1, 1, 1, 1, 1, 1, 1, 1, 1, 1, 1, 1, 1, 1, 1, 1, 1, 1, 1, 1,...</td><td>108.19999999999992</td></tr><tr><td>2022-11-22</td><td>[1, 1, 1, 1, 1, 1, 1, 1, 1, 1, 1, 1, 1, 1, 1, 1, 1, 1, 1, 1, 1, 1, 1, 1, 1, 1, 1, 1, 1, 1, 1, 1, 1, 1, 1, 1, 1, 1, 1,...</td><td>111.49999999999997</td></tr><tr><td>2022-11-23</td><td>[1, 1, 1, 1, 1, 1, 1, 1, 1, 1, 1, 1, 1, 1, 1, 1, 1, 1, 1, 1, 1, 1, 1, 1, 1, 1, 1, 1, 1, 1, 1, 1, 1, 1, 1, 1, 1, 1, 1,...</td><td>118.29999999999991</td></tr><tr><td>2022-11-24</td><td>[1, 1, 1, 1, 1, 1, 1, 1, 1, 1, 1, 1, 1, 1, 1, 1, 1, 1, 1, 1, 1, 1, 1, 1, 1, 1, 1, 1, 1, 1, 1, 1, 1, 1, 1, 1, 1, 1, 1,...</td><td>112.79999999999995</td></tr>\n",
       "      </table>"
      ]
     },
     "metadata": {},
     "output_type": "display_data"
    }
   ],
   "source": [
    "val result = spark.sql(\"\"\"\n",
    "SELECT\n",
    "  date,\n",
    "  transform(price, p -> 1) AS one,\n",
    "  aggregate(price, CAST(0.0 AS double), (p1, p2) -> p1 + p2) AS total\n",
    "FROM (\n",
    "  SELECT\n",
    "    to_date(timestamp) AS date,\n",
    "    collect_list(price) AS price\n",
    "  FROM orders\n",
    "  GROUP BY date\n",
    ")\n",
    "\"\"\").showHTML(limit=10, truncate=120)"
   ]
  },
  {
   "cell_type": "code",
   "execution_count": null,
   "id": "a42e918f-d39c-4adb-94c9-dfb8cab62e0f",
   "metadata": {},
   "outputs": [],
   "source": []
  }
 ],
 "metadata": {
  "kernelspec": {
   "display_name": "Scala 2.13",
   "language": "scala",
   "name": "scala213"
  },
  "language_info": {
   "codemirror_mode": "text/x-scala",
   "file_extension": ".sc",
   "mimetype": "text/x-scala",
   "name": "scala",
   "nbconvert_exporter": "script",
   "version": "2.13.10"
  }
 },
 "nbformat": 4,
 "nbformat_minor": 5
}
