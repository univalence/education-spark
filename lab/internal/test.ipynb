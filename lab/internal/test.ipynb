{
 "cells": [
  {
   "cell_type": "code",
   "execution_count": 1,
   "id": "e04261f1-7fb3-4bed-a513-f8803ac68dbc",
   "metadata": {
    "tags": []
   },
   "outputs": [
    {
     "name": "stdout",
     "output_type": "stream",
     "text": [
      "Compiling /home/jovyan/work/internal/spark_helper.sc"
     ]
    },
    {
     "data": {
      "text/plain": [
       "\u001b[32mimport \u001b[39m\u001b[36m$file.$           , spark_helper._\u001b[39m"
      ]
     },
     "execution_count": 1,
     "metadata": {},
     "output_type": "execute_result"
    }
   ],
   "source": [
    "import $file.spark_helper, spark_helper._"
   ]
  },
  {
   "cell_type": "code",
   "execution_count": 2,
   "id": "e322f294-330d-4e92-b6b1-34f028b33168",
   "metadata": {
    "tags": []
   },
   "outputs": [
    {
     "data": {
      "text/html": [
       "\n",
       "    <pre style=\"background: black; color: lightgray; padding: 1ex\">\n",
       "<span style=\"color: cyan\">/home/jovyan/work/internal $</span> <span style=\"color: white\">ls</span>\n",
       "spark_helper.sc\n",
       "test.ipynb</pre>"
      ]
     },
     "metadata": {},
     "output_type": "display_data"
    }
   ],
   "source": [
    "shell(\"ls\")"
   ]
  },
  {
   "cell_type": "code",
   "execution_count": 4,
   "id": "21e54cb6-870a-4784-a677-9becb76ea3a2",
   "metadata": {},
   "outputs": [
    {
     "data": {
      "text/plain": [
       "\u001b[32mimport \u001b[39m\u001b[36mjava.net.InetAddress\n",
       "\n",
       "\u001b[39m\n",
       "\u001b[36mres3_1\u001b[39m: \u001b[32mString\u001b[39m = \u001b[32m\"172.23.0.2\"\u001b[39m"
      ]
     },
     "execution_count": 4,
     "metadata": {},
     "output_type": "execute_result"
    }
   ],
   "source": [
    "import java.net.InetAddress\n",
    "\n",
    "InetAddress.getLocalHost().getHostAddress()"
   ]
  },
  {
   "cell_type": "code",
   "execution_count": null,
   "id": "a8e96c5c-1bae-487a-b5f6-244405ecba25",
   "metadata": {},
   "outputs": [],
   "source": []
  }
 ],
 "metadata": {
  "kernelspec": {
   "display_name": "Scala 2.13",
   "language": "scala",
   "name": "scala213"
  },
  "language_info": {
   "codemirror_mode": "text/x-scala",
   "file_extension": ".sc",
   "mimetype": "text/x-scala",
   "name": "scala",
   "nbconvert_exporter": "script",
   "version": "2.13.10"
  }
 },
 "nbformat": 4,
 "nbformat_minor": 5
}
